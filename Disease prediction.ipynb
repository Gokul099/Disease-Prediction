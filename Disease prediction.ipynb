{
 "cells": [
  {
   "cell_type": "code",
   "execution_count": 1,
   "metadata": {},
   "outputs": [],
   "source": [
    "import pandas as pd\n",
    "import numpy as np\n",
    "import matplotlib.pyplot as plt\n",
    "import seaborn as sns\n",
    "import warnings\n",
    "warnings.filterwarnings('ignore')    \n",
    "pd.set_option('display.max_columns', None)\n"
   ]
  },
  {
   "cell_type": "code",
   "execution_count": 2,
   "metadata": {},
   "outputs": [
    {
     "data": {
      "text/html": [
       "<div>\n",
       "<style scoped>\n",
       "    .dataframe tbody tr th:only-of-type {\n",
       "        vertical-align: middle;\n",
       "    }\n",
       "\n",
       "    .dataframe tbody tr th {\n",
       "        vertical-align: top;\n",
       "    }\n",
       "\n",
       "    .dataframe thead th {\n",
       "        text-align: right;\n",
       "    }\n",
       "</style>\n",
       "<table border=\"1\" class=\"dataframe\">\n",
       "  <thead>\n",
       "    <tr style=\"text-align: right;\">\n",
       "      <th></th>\n",
       "      <th>Glucose</th>\n",
       "      <th>Cholesterol</th>\n",
       "      <th>Hemoglobin</th>\n",
       "      <th>Platelets</th>\n",
       "      <th>White Blood Cells</th>\n",
       "      <th>Red Blood Cells</th>\n",
       "      <th>Hematocrit</th>\n",
       "      <th>Mean Corpuscular Volume</th>\n",
       "      <th>Mean Corpuscular Hemoglobin</th>\n",
       "      <th>Mean Corpuscular Hemoglobin Concentration</th>\n",
       "      <th>Insulin</th>\n",
       "      <th>BMI</th>\n",
       "      <th>Systolic Blood Pressure</th>\n",
       "      <th>Diastolic Blood Pressure</th>\n",
       "      <th>Triglycerides</th>\n",
       "      <th>HbA1c</th>\n",
       "      <th>LDL Cholesterol</th>\n",
       "      <th>HDL Cholesterol</th>\n",
       "      <th>ALT</th>\n",
       "      <th>AST</th>\n",
       "      <th>Heart Rate</th>\n",
       "      <th>Creatinine</th>\n",
       "      <th>Troponin</th>\n",
       "      <th>C-reactive Protein</th>\n",
       "      <th>Disease</th>\n",
       "    </tr>\n",
       "  </thead>\n",
       "  <tbody>\n",
       "    <tr>\n",
       "      <th>0</th>\n",
       "      <td>0.739597</td>\n",
       "      <td>0.650198</td>\n",
       "      <td>0.713631</td>\n",
       "      <td>0.868491</td>\n",
       "      <td>0.687433</td>\n",
       "      <td>0.529895</td>\n",
       "      <td>0.290006</td>\n",
       "      <td>0.631045</td>\n",
       "      <td>0.001328</td>\n",
       "      <td>0.795829</td>\n",
       "      <td>0.034129</td>\n",
       "      <td>0.071774</td>\n",
       "      <td>0.185596</td>\n",
       "      <td>0.071455</td>\n",
       "      <td>0.653472</td>\n",
       "      <td>0.502665</td>\n",
       "      <td>0.215560</td>\n",
       "      <td>0.512941</td>\n",
       "      <td>0.064187</td>\n",
       "      <td>0.610827</td>\n",
       "      <td>0.939485</td>\n",
       "      <td>0.095512</td>\n",
       "      <td>0.465957</td>\n",
       "      <td>0.769230</td>\n",
       "      <td>Healthy</td>\n",
       "    </tr>\n",
       "    <tr>\n",
       "      <th>1</th>\n",
       "      <td>0.121786</td>\n",
       "      <td>0.023058</td>\n",
       "      <td>0.944893</td>\n",
       "      <td>0.905372</td>\n",
       "      <td>0.507711</td>\n",
       "      <td>0.403033</td>\n",
       "      <td>0.164216</td>\n",
       "      <td>0.307553</td>\n",
       "      <td>0.207938</td>\n",
       "      <td>0.505562</td>\n",
       "      <td>0.571162</td>\n",
       "      <td>0.839271</td>\n",
       "      <td>0.580903</td>\n",
       "      <td>0.556037</td>\n",
       "      <td>0.477742</td>\n",
       "      <td>0.856810</td>\n",
       "      <td>0.652465</td>\n",
       "      <td>0.106961</td>\n",
       "      <td>0.942549</td>\n",
       "      <td>0.344261</td>\n",
       "      <td>0.666368</td>\n",
       "      <td>0.659060</td>\n",
       "      <td>0.816982</td>\n",
       "      <td>0.401166</td>\n",
       "      <td>Diabetes</td>\n",
       "    </tr>\n",
       "    <tr>\n",
       "      <th>2</th>\n",
       "      <td>0.452539</td>\n",
       "      <td>0.116135</td>\n",
       "      <td>0.544560</td>\n",
       "      <td>0.400640</td>\n",
       "      <td>0.294538</td>\n",
       "      <td>0.382021</td>\n",
       "      <td>0.625267</td>\n",
       "      <td>0.295122</td>\n",
       "      <td>0.868369</td>\n",
       "      <td>0.026808</td>\n",
       "      <td>0.582170</td>\n",
       "      <td>0.577423</td>\n",
       "      <td>0.045782</td>\n",
       "      <td>0.663642</td>\n",
       "      <td>0.088940</td>\n",
       "      <td>0.466795</td>\n",
       "      <td>0.387332</td>\n",
       "      <td>0.421763</td>\n",
       "      <td>0.007186</td>\n",
       "      <td>0.506918</td>\n",
       "      <td>0.431704</td>\n",
       "      <td>0.417295</td>\n",
       "      <td>0.799074</td>\n",
       "      <td>0.779208</td>\n",
       "      <td>Thalasse</td>\n",
       "    </tr>\n",
       "    <tr>\n",
       "      <th>3</th>\n",
       "      <td>0.136609</td>\n",
       "      <td>0.015605</td>\n",
       "      <td>0.419957</td>\n",
       "      <td>0.191487</td>\n",
       "      <td>0.081168</td>\n",
       "      <td>0.166214</td>\n",
       "      <td>0.073293</td>\n",
       "      <td>0.668719</td>\n",
       "      <td>0.125447</td>\n",
       "      <td>0.501051</td>\n",
       "      <td>0.620258</td>\n",
       "      <td>0.169059</td>\n",
       "      <td>0.139289</td>\n",
       "      <td>0.160496</td>\n",
       "      <td>0.406528</td>\n",
       "      <td>0.016256</td>\n",
       "      <td>0.040137</td>\n",
       "      <td>0.826721</td>\n",
       "      <td>0.265415</td>\n",
       "      <td>0.594148</td>\n",
       "      <td>0.225756</td>\n",
       "      <td>0.490349</td>\n",
       "      <td>0.637061</td>\n",
       "      <td>0.354094</td>\n",
       "      <td>Anemia</td>\n",
       "    </tr>\n",
       "    <tr>\n",
       "      <th>4</th>\n",
       "      <td>0.176737</td>\n",
       "      <td>0.752220</td>\n",
       "      <td>0.971779</td>\n",
       "      <td>0.785286</td>\n",
       "      <td>0.443880</td>\n",
       "      <td>0.439851</td>\n",
       "      <td>0.894991</td>\n",
       "      <td>0.442159</td>\n",
       "      <td>0.257288</td>\n",
       "      <td>0.805987</td>\n",
       "      <td>0.184371</td>\n",
       "      <td>0.580175</td>\n",
       "      <td>0.118461</td>\n",
       "      <td>0.005579</td>\n",
       "      <td>0.414407</td>\n",
       "      <td>0.429431</td>\n",
       "      <td>0.146294</td>\n",
       "      <td>0.221574</td>\n",
       "      <td>0.015280</td>\n",
       "      <td>0.567115</td>\n",
       "      <td>0.841412</td>\n",
       "      <td>0.153350</td>\n",
       "      <td>0.794008</td>\n",
       "      <td>0.094970</td>\n",
       "      <td>Thalasse</td>\n",
       "    </tr>\n",
       "  </tbody>\n",
       "</table>\n",
       "</div>"
      ],
      "text/plain": [
       "    Glucose  Cholesterol  Hemoglobin  Platelets  White Blood Cells  \\\n",
       "0  0.739597     0.650198    0.713631   0.868491           0.687433   \n",
       "1  0.121786     0.023058    0.944893   0.905372           0.507711   \n",
       "2  0.452539     0.116135    0.544560   0.400640           0.294538   \n",
       "3  0.136609     0.015605    0.419957   0.191487           0.081168   \n",
       "4  0.176737     0.752220    0.971779   0.785286           0.443880   \n",
       "\n",
       "   Red Blood Cells  Hematocrit  Mean Corpuscular Volume  \\\n",
       "0         0.529895    0.290006                 0.631045   \n",
       "1         0.403033    0.164216                 0.307553   \n",
       "2         0.382021    0.625267                 0.295122   \n",
       "3         0.166214    0.073293                 0.668719   \n",
       "4         0.439851    0.894991                 0.442159   \n",
       "\n",
       "   Mean Corpuscular Hemoglobin  Mean Corpuscular Hemoglobin Concentration  \\\n",
       "0                     0.001328                                   0.795829   \n",
       "1                     0.207938                                   0.505562   \n",
       "2                     0.868369                                   0.026808   \n",
       "3                     0.125447                                   0.501051   \n",
       "4                     0.257288                                   0.805987   \n",
       "\n",
       "    Insulin       BMI  Systolic Blood Pressure  Diastolic Blood Pressure  \\\n",
       "0  0.034129  0.071774                 0.185596                  0.071455   \n",
       "1  0.571162  0.839271                 0.580903                  0.556037   \n",
       "2  0.582170  0.577423                 0.045782                  0.663642   \n",
       "3  0.620258  0.169059                 0.139289                  0.160496   \n",
       "4  0.184371  0.580175                 0.118461                  0.005579   \n",
       "\n",
       "   Triglycerides     HbA1c  LDL Cholesterol  HDL Cholesterol       ALT  \\\n",
       "0       0.653472  0.502665         0.215560         0.512941  0.064187   \n",
       "1       0.477742  0.856810         0.652465         0.106961  0.942549   \n",
       "2       0.088940  0.466795         0.387332         0.421763  0.007186   \n",
       "3       0.406528  0.016256         0.040137         0.826721  0.265415   \n",
       "4       0.414407  0.429431         0.146294         0.221574  0.015280   \n",
       "\n",
       "        AST  Heart Rate  Creatinine  Troponin  C-reactive Protein   Disease  \n",
       "0  0.610827    0.939485    0.095512  0.465957            0.769230   Healthy  \n",
       "1  0.344261    0.666368    0.659060  0.816982            0.401166  Diabetes  \n",
       "2  0.506918    0.431704    0.417295  0.799074            0.779208  Thalasse  \n",
       "3  0.594148    0.225756    0.490349  0.637061            0.354094    Anemia  \n",
       "4  0.567115    0.841412    0.153350  0.794008            0.094970  Thalasse  "
      ]
     },
     "execution_count": 2,
     "metadata": {},
     "output_type": "execute_result"
    }
   ],
   "source": [
    "df = pd.read_csv('Train_data.csv')\n",
    "df.head()"
   ]
  },
  {
   "cell_type": "markdown",
   "metadata": {},
   "source": [
    "# Basic checks"
   ]
  },
  {
   "cell_type": "code",
   "execution_count": 3,
   "metadata": {},
   "outputs": [
    {
     "data": {
      "text/plain": [
       "(2351, 25)"
      ]
     },
     "execution_count": 3,
     "metadata": {},
     "output_type": "execute_result"
    }
   ],
   "source": [
    "df.shape"
   ]
  },
  {
   "cell_type": "code",
   "execution_count": 4,
   "metadata": {},
   "outputs": [
    {
     "name": "stdout",
     "output_type": "stream",
     "text": [
      "<class 'pandas.core.frame.DataFrame'>\n",
      "RangeIndex: 2351 entries, 0 to 2350\n",
      "Data columns (total 25 columns):\n",
      " #   Column                                     Non-Null Count  Dtype  \n",
      "---  ------                                     --------------  -----  \n",
      " 0   Glucose                                    2351 non-null   float64\n",
      " 1   Cholesterol                                2351 non-null   float64\n",
      " 2   Hemoglobin                                 2351 non-null   float64\n",
      " 3   Platelets                                  2351 non-null   float64\n",
      " 4   White Blood Cells                          2351 non-null   float64\n",
      " 5   Red Blood Cells                            2351 non-null   float64\n",
      " 6   Hematocrit                                 2351 non-null   float64\n",
      " 7   Mean Corpuscular Volume                    2351 non-null   float64\n",
      " 8   Mean Corpuscular Hemoglobin                2351 non-null   float64\n",
      " 9   Mean Corpuscular Hemoglobin Concentration  2351 non-null   float64\n",
      " 10  Insulin                                    2351 non-null   float64\n",
      " 11  BMI                                        2351 non-null   float64\n",
      " 12  Systolic Blood Pressure                    2351 non-null   float64\n",
      " 13  Diastolic Blood Pressure                   2351 non-null   float64\n",
      " 14  Triglycerides                              2351 non-null   float64\n",
      " 15  HbA1c                                      2351 non-null   float64\n",
      " 16  LDL Cholesterol                            2351 non-null   float64\n",
      " 17  HDL Cholesterol                            2351 non-null   float64\n",
      " 18  ALT                                        2351 non-null   float64\n",
      " 19  AST                                        2351 non-null   float64\n",
      " 20  Heart Rate                                 2351 non-null   float64\n",
      " 21  Creatinine                                 2351 non-null   float64\n",
      " 22  Troponin                                   2351 non-null   float64\n",
      " 23  C-reactive Protein                         2351 non-null   float64\n",
      " 24  Disease                                    2351 non-null   object \n",
      "dtypes: float64(24), object(1)\n",
      "memory usage: 459.3+ KB\n"
     ]
    }
   ],
   "source": [
    "df.info()"
   ]
  },
  {
   "cell_type": "code",
   "execution_count": 5,
   "metadata": {},
   "outputs": [
    {
     "data": {
      "text/html": [
       "<div>\n",
       "<style scoped>\n",
       "    .dataframe tbody tr th:only-of-type {\n",
       "        vertical-align: middle;\n",
       "    }\n",
       "\n",
       "    .dataframe tbody tr th {\n",
       "        vertical-align: top;\n",
       "    }\n",
       "\n",
       "    .dataframe thead th {\n",
       "        text-align: right;\n",
       "    }\n",
       "</style>\n",
       "<table border=\"1\" class=\"dataframe\">\n",
       "  <thead>\n",
       "    <tr style=\"text-align: right;\">\n",
       "      <th></th>\n",
       "      <th>Glucose</th>\n",
       "      <th>Cholesterol</th>\n",
       "      <th>Hemoglobin</th>\n",
       "      <th>Platelets</th>\n",
       "      <th>White Blood Cells</th>\n",
       "      <th>Red Blood Cells</th>\n",
       "      <th>Hematocrit</th>\n",
       "      <th>Mean Corpuscular Volume</th>\n",
       "      <th>Mean Corpuscular Hemoglobin</th>\n",
       "      <th>Mean Corpuscular Hemoglobin Concentration</th>\n",
       "      <th>Insulin</th>\n",
       "      <th>BMI</th>\n",
       "      <th>Systolic Blood Pressure</th>\n",
       "      <th>Diastolic Blood Pressure</th>\n",
       "      <th>Triglycerides</th>\n",
       "      <th>HbA1c</th>\n",
       "      <th>LDL Cholesterol</th>\n",
       "      <th>HDL Cholesterol</th>\n",
       "      <th>ALT</th>\n",
       "      <th>AST</th>\n",
       "      <th>Heart Rate</th>\n",
       "      <th>Creatinine</th>\n",
       "      <th>Troponin</th>\n",
       "      <th>C-reactive Protein</th>\n",
       "    </tr>\n",
       "  </thead>\n",
       "  <tbody>\n",
       "    <tr>\n",
       "      <th>count</th>\n",
       "      <td>2351.000000</td>\n",
       "      <td>2351.000000</td>\n",
       "      <td>2351.000000</td>\n",
       "      <td>2351.000000</td>\n",
       "      <td>2351.000000</td>\n",
       "      <td>2351.000000</td>\n",
       "      <td>2351.000000</td>\n",
       "      <td>2351.000000</td>\n",
       "      <td>2351.000000</td>\n",
       "      <td>2351.000000</td>\n",
       "      <td>2351.000000</td>\n",
       "      <td>2351.000000</td>\n",
       "      <td>2351.000000</td>\n",
       "      <td>2351.000000</td>\n",
       "      <td>2351.000000</td>\n",
       "      <td>2351.000000</td>\n",
       "      <td>2351.000000</td>\n",
       "      <td>2351.000000</td>\n",
       "      <td>2351.000000</td>\n",
       "      <td>2351.000000</td>\n",
       "      <td>2351.000000</td>\n",
       "      <td>2351.000000</td>\n",
       "      <td>2351.000000</td>\n",
       "      <td>2351.000000</td>\n",
       "    </tr>\n",
       "    <tr>\n",
       "      <th>mean</th>\n",
       "      <td>0.362828</td>\n",
       "      <td>0.393648</td>\n",
       "      <td>0.586190</td>\n",
       "      <td>0.504027</td>\n",
       "      <td>0.511086</td>\n",
       "      <td>0.506590</td>\n",
       "      <td>0.507152</td>\n",
       "      <td>0.492200</td>\n",
       "      <td>0.484459</td>\n",
       "      <td>0.562273</td>\n",
       "      <td>0.447062</td>\n",
       "      <td>0.436679</td>\n",
       "      <td>0.381211</td>\n",
       "      <td>0.421708</td>\n",
       "      <td>0.374373</td>\n",
       "      <td>0.439112</td>\n",
       "      <td>0.421777</td>\n",
       "      <td>0.546079</td>\n",
       "      <td>0.434972</td>\n",
       "      <td>0.452138</td>\n",
       "      <td>0.582255</td>\n",
       "      <td>0.425075</td>\n",
       "      <td>0.454597</td>\n",
       "      <td>0.430308</td>\n",
       "    </tr>\n",
       "    <tr>\n",
       "      <th>std</th>\n",
       "      <td>0.251889</td>\n",
       "      <td>0.239449</td>\n",
       "      <td>0.271498</td>\n",
       "      <td>0.303347</td>\n",
       "      <td>0.277270</td>\n",
       "      <td>0.266565</td>\n",
       "      <td>0.285537</td>\n",
       "      <td>0.275735</td>\n",
       "      <td>0.315618</td>\n",
       "      <td>0.273281</td>\n",
       "      <td>0.242861</td>\n",
       "      <td>0.242865</td>\n",
       "      <td>0.232785</td>\n",
       "      <td>0.248768</td>\n",
       "      <td>0.256981</td>\n",
       "      <td>0.263779</td>\n",
       "      <td>0.252124</td>\n",
       "      <td>0.269511</td>\n",
       "      <td>0.267388</td>\n",
       "      <td>0.242075</td>\n",
       "      <td>0.250915</td>\n",
       "      <td>0.229298</td>\n",
       "      <td>0.251189</td>\n",
       "      <td>0.243034</td>\n",
       "    </tr>\n",
       "    <tr>\n",
       "      <th>min</th>\n",
       "      <td>0.010994</td>\n",
       "      <td>0.012139</td>\n",
       "      <td>0.003021</td>\n",
       "      <td>0.012594</td>\n",
       "      <td>0.010139</td>\n",
       "      <td>0.044565</td>\n",
       "      <td>0.011772</td>\n",
       "      <td>0.046942</td>\n",
       "      <td>0.000554</td>\n",
       "      <td>0.006947</td>\n",
       "      <td>0.034129</td>\n",
       "      <td>0.014596</td>\n",
       "      <td>0.005988</td>\n",
       "      <td>0.005579</td>\n",
       "      <td>0.005217</td>\n",
       "      <td>0.016256</td>\n",
       "      <td>0.033037</td>\n",
       "      <td>0.039505</td>\n",
       "      <td>0.007186</td>\n",
       "      <td>0.013013</td>\n",
       "      <td>0.114550</td>\n",
       "      <td>0.021239</td>\n",
       "      <td>0.007490</td>\n",
       "      <td>0.004867</td>\n",
       "    </tr>\n",
       "    <tr>\n",
       "      <th>25%</th>\n",
       "      <td>0.129198</td>\n",
       "      <td>0.195818</td>\n",
       "      <td>0.346092</td>\n",
       "      <td>0.200865</td>\n",
       "      <td>0.259467</td>\n",
       "      <td>0.263589</td>\n",
       "      <td>0.288132</td>\n",
       "      <td>0.287532</td>\n",
       "      <td>0.207938</td>\n",
       "      <td>0.355774</td>\n",
       "      <td>0.219111</td>\n",
       "      <td>0.246885</td>\n",
       "      <td>0.179951</td>\n",
       "      <td>0.175469</td>\n",
       "      <td>0.184604</td>\n",
       "      <td>0.188750</td>\n",
       "      <td>0.217757</td>\n",
       "      <td>0.307132</td>\n",
       "      <td>0.211078</td>\n",
       "      <td>0.239659</td>\n",
       "      <td>0.339125</td>\n",
       "      <td>0.213026</td>\n",
       "      <td>0.288961</td>\n",
       "      <td>0.196192</td>\n",
       "    </tr>\n",
       "    <tr>\n",
       "      <th>50%</th>\n",
       "      <td>0.351722</td>\n",
       "      <td>0.397083</td>\n",
       "      <td>0.609836</td>\n",
       "      <td>0.533962</td>\n",
       "      <td>0.527381</td>\n",
       "      <td>0.467431</td>\n",
       "      <td>0.493428</td>\n",
       "      <td>0.453052</td>\n",
       "      <td>0.420723</td>\n",
       "      <td>0.603635</td>\n",
       "      <td>0.444806</td>\n",
       "      <td>0.443725</td>\n",
       "      <td>0.359064</td>\n",
       "      <td>0.474378</td>\n",
       "      <td>0.317857</td>\n",
       "      <td>0.466375</td>\n",
       "      <td>0.413071</td>\n",
       "      <td>0.512941</td>\n",
       "      <td>0.373235</td>\n",
       "      <td>0.486317</td>\n",
       "      <td>0.610860</td>\n",
       "      <td>0.417295</td>\n",
       "      <td>0.426863</td>\n",
       "      <td>0.481601</td>\n",
       "    </tr>\n",
       "    <tr>\n",
       "      <th>75%</th>\n",
       "      <td>0.582278</td>\n",
       "      <td>0.582178</td>\n",
       "      <td>0.791215</td>\n",
       "      <td>0.754841</td>\n",
       "      <td>0.743164</td>\n",
       "      <td>0.743670</td>\n",
       "      <td>0.753657</td>\n",
       "      <td>0.722293</td>\n",
       "      <td>0.778160</td>\n",
       "      <td>0.741381</td>\n",
       "      <td>0.654441</td>\n",
       "      <td>0.601662</td>\n",
       "      <td>0.580903</td>\n",
       "      <td>0.663382</td>\n",
       "      <td>0.572330</td>\n",
       "      <td>0.652514</td>\n",
       "      <td>0.604753</td>\n",
       "      <td>0.779378</td>\n",
       "      <td>0.710319</td>\n",
       "      <td>0.616181</td>\n",
       "      <td>0.800666</td>\n",
       "      <td>0.606719</td>\n",
       "      <td>0.682164</td>\n",
       "      <td>0.631426</td>\n",
       "    </tr>\n",
       "    <tr>\n",
       "      <th>max</th>\n",
       "      <td>0.968460</td>\n",
       "      <td>0.905026</td>\n",
       "      <td>0.983306</td>\n",
       "      <td>0.999393</td>\n",
       "      <td>0.990786</td>\n",
       "      <td>1.000000</td>\n",
       "      <td>0.977520</td>\n",
       "      <td>0.995263</td>\n",
       "      <td>0.963235</td>\n",
       "      <td>0.975586</td>\n",
       "      <td>0.966784</td>\n",
       "      <td>0.898210</td>\n",
       "      <td>0.829100</td>\n",
       "      <td>0.934617</td>\n",
       "      <td>0.973679</td>\n",
       "      <td>0.950218</td>\n",
       "      <td>0.983826</td>\n",
       "      <td>0.989411</td>\n",
       "      <td>0.942549</td>\n",
       "      <td>0.994460</td>\n",
       "      <td>0.996873</td>\n",
       "      <td>0.925924</td>\n",
       "      <td>0.972803</td>\n",
       "      <td>0.797906</td>\n",
       "    </tr>\n",
       "  </tbody>\n",
       "</table>\n",
       "</div>"
      ],
      "text/plain": [
       "           Glucose  Cholesterol   Hemoglobin    Platelets  White Blood Cells  \\\n",
       "count  2351.000000  2351.000000  2351.000000  2351.000000        2351.000000   \n",
       "mean      0.362828     0.393648     0.586190     0.504027           0.511086   \n",
       "std       0.251889     0.239449     0.271498     0.303347           0.277270   \n",
       "min       0.010994     0.012139     0.003021     0.012594           0.010139   \n",
       "25%       0.129198     0.195818     0.346092     0.200865           0.259467   \n",
       "50%       0.351722     0.397083     0.609836     0.533962           0.527381   \n",
       "75%       0.582278     0.582178     0.791215     0.754841           0.743164   \n",
       "max       0.968460     0.905026     0.983306     0.999393           0.990786   \n",
       "\n",
       "       Red Blood Cells   Hematocrit  Mean Corpuscular Volume  \\\n",
       "count      2351.000000  2351.000000              2351.000000   \n",
       "mean          0.506590     0.507152                 0.492200   \n",
       "std           0.266565     0.285537                 0.275735   \n",
       "min           0.044565     0.011772                 0.046942   \n",
       "25%           0.263589     0.288132                 0.287532   \n",
       "50%           0.467431     0.493428                 0.453052   \n",
       "75%           0.743670     0.753657                 0.722293   \n",
       "max           1.000000     0.977520                 0.995263   \n",
       "\n",
       "       Mean Corpuscular Hemoglobin  Mean Corpuscular Hemoglobin Concentration  \\\n",
       "count                  2351.000000                                2351.000000   \n",
       "mean                      0.484459                                   0.562273   \n",
       "std                       0.315618                                   0.273281   \n",
       "min                       0.000554                                   0.006947   \n",
       "25%                       0.207938                                   0.355774   \n",
       "50%                       0.420723                                   0.603635   \n",
       "75%                       0.778160                                   0.741381   \n",
       "max                       0.963235                                   0.975586   \n",
       "\n",
       "           Insulin          BMI  Systolic Blood Pressure  \\\n",
       "count  2351.000000  2351.000000              2351.000000   \n",
       "mean      0.447062     0.436679                 0.381211   \n",
       "std       0.242861     0.242865                 0.232785   \n",
       "min       0.034129     0.014596                 0.005988   \n",
       "25%       0.219111     0.246885                 0.179951   \n",
       "50%       0.444806     0.443725                 0.359064   \n",
       "75%       0.654441     0.601662                 0.580903   \n",
       "max       0.966784     0.898210                 0.829100   \n",
       "\n",
       "       Diastolic Blood Pressure  Triglycerides        HbA1c  LDL Cholesterol  \\\n",
       "count               2351.000000    2351.000000  2351.000000      2351.000000   \n",
       "mean                   0.421708       0.374373     0.439112         0.421777   \n",
       "std                    0.248768       0.256981     0.263779         0.252124   \n",
       "min                    0.005579       0.005217     0.016256         0.033037   \n",
       "25%                    0.175469       0.184604     0.188750         0.217757   \n",
       "50%                    0.474378       0.317857     0.466375         0.413071   \n",
       "75%                    0.663382       0.572330     0.652514         0.604753   \n",
       "max                    0.934617       0.973679     0.950218         0.983826   \n",
       "\n",
       "       HDL Cholesterol          ALT          AST   Heart Rate   Creatinine  \\\n",
       "count      2351.000000  2351.000000  2351.000000  2351.000000  2351.000000   \n",
       "mean          0.546079     0.434972     0.452138     0.582255     0.425075   \n",
       "std           0.269511     0.267388     0.242075     0.250915     0.229298   \n",
       "min           0.039505     0.007186     0.013013     0.114550     0.021239   \n",
       "25%           0.307132     0.211078     0.239659     0.339125     0.213026   \n",
       "50%           0.512941     0.373235     0.486317     0.610860     0.417295   \n",
       "75%           0.779378     0.710319     0.616181     0.800666     0.606719   \n",
       "max           0.989411     0.942549     0.994460     0.996873     0.925924   \n",
       "\n",
       "          Troponin  C-reactive Protein  \n",
       "count  2351.000000         2351.000000  \n",
       "mean      0.454597            0.430308  \n",
       "std       0.251189            0.243034  \n",
       "min       0.007490            0.004867  \n",
       "25%       0.288961            0.196192  \n",
       "50%       0.426863            0.481601  \n",
       "75%       0.682164            0.631426  \n",
       "max       0.972803            0.797906  "
      ]
     },
     "execution_count": 5,
     "metadata": {},
     "output_type": "execute_result"
    }
   ],
   "source": [
    "df.describe()"
   ]
  },
  {
   "cell_type": "code",
   "execution_count": 6,
   "metadata": {},
   "outputs": [
    {
     "data": {
      "text/html": [
       "<div>\n",
       "<style scoped>\n",
       "    .dataframe tbody tr th:only-of-type {\n",
       "        vertical-align: middle;\n",
       "    }\n",
       "\n",
       "    .dataframe tbody tr th {\n",
       "        vertical-align: top;\n",
       "    }\n",
       "\n",
       "    .dataframe thead th {\n",
       "        text-align: right;\n",
       "    }\n",
       "</style>\n",
       "<table border=\"1\" class=\"dataframe\">\n",
       "  <thead>\n",
       "    <tr style=\"text-align: right;\">\n",
       "      <th></th>\n",
       "      <th>Disease</th>\n",
       "    </tr>\n",
       "  </thead>\n",
       "  <tbody>\n",
       "    <tr>\n",
       "      <th>count</th>\n",
       "      <td>2351</td>\n",
       "    </tr>\n",
       "    <tr>\n",
       "      <th>unique</th>\n",
       "      <td>5</td>\n",
       "    </tr>\n",
       "    <tr>\n",
       "      <th>top</th>\n",
       "      <td>Anemia</td>\n",
       "    </tr>\n",
       "    <tr>\n",
       "      <th>freq</th>\n",
       "      <td>623</td>\n",
       "    </tr>\n",
       "  </tbody>\n",
       "</table>\n",
       "</div>"
      ],
      "text/plain": [
       "       Disease\n",
       "count     2351\n",
       "unique       5\n",
       "top     Anemia\n",
       "freq       623"
      ]
     },
     "execution_count": 6,
     "metadata": {},
     "output_type": "execute_result"
    }
   ],
   "source": [
    "df.describe(include=['O'])"
   ]
  },
  {
   "cell_type": "code",
   "execution_count": 7,
   "metadata": {},
   "outputs": [
    {
     "data": {
      "text/plain": [
       "Glucose                                      0\n",
       "Cholesterol                                  0\n",
       "Hemoglobin                                   0\n",
       "Platelets                                    0\n",
       "White Blood Cells                            0\n",
       "Red Blood Cells                              0\n",
       "Hematocrit                                   0\n",
       "Mean Corpuscular Volume                      0\n",
       "Mean Corpuscular Hemoglobin                  0\n",
       "Mean Corpuscular Hemoglobin Concentration    0\n",
       "Insulin                                      0\n",
       "BMI                                          0\n",
       "Systolic Blood Pressure                      0\n",
       "Diastolic Blood Pressure                     0\n",
       "Triglycerides                                0\n",
       "HbA1c                                        0\n",
       "LDL Cholesterol                              0\n",
       "HDL Cholesterol                              0\n",
       "ALT                                          0\n",
       "AST                                          0\n",
       "Heart Rate                                   0\n",
       "Creatinine                                   0\n",
       "Troponin                                     0\n",
       "C-reactive Protein                           0\n",
       "Disease                                      0\n",
       "dtype: int64"
      ]
     },
     "execution_count": 7,
     "metadata": {},
     "output_type": "execute_result"
    }
   ],
   "source": [
    "df.isnull().sum()"
   ]
  },
  {
   "cell_type": "markdown",
   "metadata": {},
   "source": [
    "# There are no null values."
   ]
  },
  {
   "cell_type": "code",
   "execution_count": 8,
   "metadata": {},
   "outputs": [
    {
     "data": {
      "text/plain": [
       "2286"
      ]
     },
     "execution_count": 8,
     "metadata": {},
     "output_type": "execute_result"
    }
   ],
   "source": [
    "df.duplicated().sum()"
   ]
  },
  {
   "cell_type": "code",
   "execution_count": 9,
   "metadata": {},
   "outputs": [
    {
     "name": "stdout",
     "output_type": "stream",
     "text": [
      "       Glucose  Cholesterol  Hemoglobin  Platelets  White Blood Cells  \\\n",
      "9     0.399017     0.508254    0.777394   0.096310           0.925520   \n",
      "21    0.722428     0.300282    0.487907   0.200865           0.402035   \n",
      "24    0.016514     0.615418    0.577672   0.561694           0.837087   \n",
      "25    0.377112     0.391959    0.577246   0.573482           0.685303   \n",
      "26    0.032726     0.053596    0.102633   0.221356           0.153956   \n",
      "...        ...          ...         ...        ...                ...   \n",
      "2346  0.012956     0.336925    0.451218   0.175006           0.734664   \n",
      "2347  0.407101     0.124738    0.983306   0.663867           0.361113   \n",
      "2348  0.344356     0.783918    0.582171   0.996841           0.065363   \n",
      "2349  0.351722     0.014278    0.898615   0.167550           0.727148   \n",
      "2350  0.032726     0.053596    0.102633   0.221356           0.153956   \n",
      "\n",
      "      Red Blood Cells  Hematocrit  Mean Corpuscular Volume  \\\n",
      "9            0.652505    0.684896                 0.380656   \n",
      "21           0.729285    0.851338                 0.820546   \n",
      "24           0.479954    0.295866                 0.722293   \n",
      "25           0.605134    0.472465                 0.098744   \n",
      "26           0.216573    0.312577                 0.608940   \n",
      "...               ...         ...                      ...   \n",
      "2346         0.382770    0.656463                 0.177502   \n",
      "2347         0.663716    0.232516                 0.341056   \n",
      "2348         0.242885    0.658851                 0.543017   \n",
      "2349         0.046091    0.900434                 0.136227   \n",
      "2350         0.216573    0.312577                 0.608940   \n",
      "\n",
      "      Mean Corpuscular Hemoglobin  Mean Corpuscular Hemoglobin Concentration  \\\n",
      "9                        0.248189                                   0.490245   \n",
      "21                       0.106637                                   0.006947   \n",
      "24                       0.916096                                   0.218293   \n",
      "25                       0.721378                                   0.319725   \n",
      "26                       0.486174                                   0.450700   \n",
      "...                           ...                                        ...   \n",
      "2346                     0.808162                                   0.684499   \n",
      "2347                     0.847441                                   0.309766   \n",
      "2348                     0.290106                                   0.838722   \n",
      "2349                     0.134361                                   0.279219   \n",
      "2350                     0.486174                                   0.450700   \n",
      "\n",
      "       Insulin       BMI  Systolic Blood Pressure  Diastolic Blood Pressure  \\\n",
      "9     0.151013  0.306056                 0.722350                  0.535940   \n",
      "21    0.797331  0.524159                 0.747593                  0.141501   \n",
      "24    0.410393  0.063970                 0.198208                  0.153407   \n",
      "25    0.700015  0.153261                 0.309886                  0.445291   \n",
      "26    0.288485  0.581466                 0.710744                  0.407323   \n",
      "...        ...       ...                      ...                       ...   \n",
      "2346  0.883908  0.257120                 0.102022                  0.356098   \n",
      "2347  0.525230  0.558362                 0.741009                  0.678500   \n",
      "2348  0.788944  0.660676                 0.597290                  0.663382   \n",
      "2349  0.078163  0.411167                 0.355545                  0.114380   \n",
      "2350  0.288485  0.581466                 0.710744                  0.407323   \n",
      "\n",
      "      Triglycerides     HbA1c  LDL Cholesterol  HDL Cholesterol       ALT  \\\n",
      "9          0.391481  0.673188         0.033037         0.772045  0.253892   \n",
      "21         0.128765  0.022621         0.061317         0.644191  0.715823   \n",
      "24         0.308743  0.079865         0.462098         0.292551  0.686779   \n",
      "25         0.694545  0.646206         0.657711         0.307132  0.261195   \n",
      "26         0.060230  0.188750         0.331887         0.562622  0.680462   \n",
      "...             ...       ...              ...              ...       ...   \n",
      "2346       0.928344  0.670665         0.311568         0.595083  0.155866   \n",
      "2347       0.299213  0.491185         0.701914         0.218104  0.790341   \n",
      "2348       0.572330  0.141738         0.155871         0.473638  0.250535   \n",
      "2349       0.191626  0.570553         0.171245         0.858352  0.362012   \n",
      "2350       0.060230  0.188750         0.331887         0.562622  0.680462   \n",
      "\n",
      "           AST  Heart Rate  Creatinine  Troponin  C-reactive Protein   Disease  \n",
      "9     0.322486    0.659069    0.774219  0.714177            0.609177  Thromboc  \n",
      "21    0.417170    0.639148    0.213026  0.549920            0.036800  Thalasse  \n",
      "24    0.714632    0.298837    0.718824  0.298533            0.030796  Thalasse  \n",
      "25    0.404761    0.599542    0.477714  0.277383            0.607319   Healthy  \n",
      "26    0.099538    0.982893    0.437285  0.288961            0.709262    Anemia  \n",
      "...        ...         ...         ...       ...                 ...       ...  \n",
      "2346  0.885812    0.636125    0.132226  0.716519            0.006121  Diabetes  \n",
      "2347  0.570902    0.339125    0.310964  0.310900            0.622403  Thalasse  \n",
      "2348  0.387197    0.344728    0.606719  0.395145            0.134021    Anemia  \n",
      "2349  0.290984    0.996873    0.882164  0.411158            0.146255  Diabetes  \n",
      "2350  0.099538    0.982893    0.437285  0.288961            0.709262    Anemia  \n",
      "\n",
      "[2286 rows x 25 columns]\n"
     ]
    }
   ],
   "source": [
    "duplicated_rows = df[df.duplicated()]\n",
    "print(duplicated_rows)\n"
   ]
  },
  {
   "cell_type": "code",
   "execution_count": 10,
   "metadata": {},
   "outputs": [
    {
     "data": {
      "text/plain": [
       "(2351, 25)"
      ]
     },
     "execution_count": 10,
     "metadata": {},
     "output_type": "execute_result"
    }
   ],
   "source": [
    "df.shape"
   ]
  },
  {
   "cell_type": "markdown",
   "metadata": {},
   "source": [
    "# EDA"
   ]
  },
  {
   "cell_type": "code",
   "execution_count": 11,
   "metadata": {},
   "outputs": [
    {
     "data": {
      "image/png": "[encoded data removed]",
      "text/plain": [
       "<Figure size 1500x1000 with 1 Axes>"
      ]
     },
     "metadata": {},
     "output_type": "display_data"
    }
   ],
   "source": [
    "plt.figure(figsize = (15,10))\n",
    "sns.countplot(data = df, x = 'Disease', palette = sns.color_palette('husl'))\n",
    "plt.show()"
   ]
  },
  {
   "cell_type": "markdown",
   "metadata": {},
   "source": [
    "## Anemia is more.\n",
    "## Thromboc is less."
   ]
  },
  {
   "cell_type": "code",
   "execution_count": 12,
   "metadata": {},
   "outputs": [
    {
     "data": {
      "image/png": "[encoded data removed]",
      "text/plain": [
       "<Figure size 2500x2000 with 1 Axes>"
      ]
     },
     "metadata": {},
     "output_type": "display_data"
    }
   ],
   "source": [
    "plt.figure(figsize = (25,20))\n",
    "sns.histplot(data = df,x = 'Glucose',hue = 'Disease')\n",
    "plt.xlabel('Glucose',fontsize = 20)\n",
    "plt.show()"
   ]
  },
  {
   "cell_type": "code",
   "execution_count": 13,
   "metadata": {},
   "outputs": [
    {
     "data": {
      "text/plain": [
       "Index(['Glucose', 'Cholesterol', 'Hemoglobin', 'Platelets',\n",
       "       'White Blood Cells', 'Red Blood Cells', 'Hematocrit',\n",
       "       'Mean Corpuscular Volume', 'Mean Corpuscular Hemoglobin',\n",
       "       'Mean Corpuscular Hemoglobin Concentration', 'Insulin', 'BMI',\n",
       "       'Systolic Blood Pressure', 'Diastolic Blood Pressure', 'Triglycerides',\n",
       "       'HbA1c', 'LDL Cholesterol', 'HDL Cholesterol', 'ALT', 'AST',\n",
       "       'Heart Rate', 'Creatinine', 'Troponin', 'C-reactive Protein',\n",
       "       'Disease'],\n",
       "      dtype='object')"
      ]
     },
     "execution_count": 13,
     "metadata": {},
     "output_type": "execute_result"
    }
   ],
   "source": [
    "df.columns"
   ]
  },
  {
   "cell_type": "code",
   "execution_count": 14,
   "metadata": {},
   "outputs": [],
   "source": [
    "col = ['Green','Red','yellow','blue','black']"
   ]
  },
  {
   "cell_type": "code",
   "execution_count": 15,
   "metadata": {},
   "outputs": [
    {
     "data": {
      "image/png": "[encoded data removed]",
      "text/plain": [
       "<Figure size 800x600 with 1 Axes>"
      ]
     },
     "metadata": {},
     "output_type": "display_data"
    }
   ],
   "source": [
    "plt.figure(figsize = (8,6))\n",
    "sns.scatterplot(data = df, x = 'Glucose', y = 'Cholesterol',hue = 'Disease', palette = col)\n",
    "plt.show()"
   ]
  },
  {
   "cell_type": "markdown",
   "metadata": {},
   "source": [
    "## If increasing in Glucose 0.1 - 0.4 and In Cholesterol 0.1 - 0.5 is level is healthy.\n",
    "## if low level of Glucose and Cholesterol and high level of Glucose and Cholesterol is confirmally affected by Diabetes.\n",
    "## And High Glucose and Low Cholestrol is affected Thalasse.\n",
    "## Low Glucose and Low Cholesterol is affected Anemia."
   ]
  },
  {
   "cell_type": "code",
   "execution_count": 16,
   "metadata": {},
   "outputs": [
    {
     "data": {
      "image/png": "[encoded data removed]",
      "text/plain": [
       "<Figure size 800x600 with 1 Axes>"
      ]
     },
     "metadata": {},
     "output_type": "display_data"
    }
   ],
   "source": [
    "plt.figure(figsize = (8,6))\n",
    "sns.scatterplot(data = df, x = 'Glucose', y = 'Hemoglobin',hue = 'Disease', palette = col)\n",
    "plt.show()"
   ]
  },
  {
   "cell_type": "markdown",
   "metadata": {},
   "source": [
    "## Glucose is high and hemoglobin is high is healthy.\n",
    "## Glucose is low and hemoglobin is high is more affected Diabetes.\n",
    "## Glucose is low and high hemoglobin are affected Thalasse.\n",
    "## loe Glucose and low hemoglobin is affected Anemia.\n",
    "## high Hemoglobin is affected Thromboc."
   ]
  },
  {
   "cell_type": "code",
   "execution_count": 17,
   "metadata": {},
   "outputs": [
    {
     "data": {
      "image/png": "[encoded data removed]",
      "text/plain": [
       "<Figure size 800x600 with 1 Axes>"
      ]
     },
     "metadata": {},
     "output_type": "display_data"
    }
   ],
   "source": [
    "plt.figure(figsize = (8,6))\n",
    "sns.scatterplot(data = df, x = 'Insulin', y = 'Hemoglobin',hue = 'Disease', palette = col)\n",
    "plt.show()"
   ]
  },
  {
   "cell_type": "markdown",
   "metadata": {},
   "source": [
    "## high hemoglobin and normal and high insulin is chance to affected diabetes.\n",
    "## high hemoglobin and low insulin is heathly.\n",
    "## low and high insulin and high and low  hemoglobin is affected Anemia."
   ]
  },
  {
   "cell_type": "code",
   "execution_count": 18,
   "metadata": {},
   "outputs": [
    {
     "data": {
      "image/png": "[encoded data removed]",
      "text/plain": [
       "<Figure size 800x600 with 1 Axes>"
      ]
     },
     "metadata": {},
     "output_type": "display_data"
    }
   ],
   "source": [
    "plt.figure(figsize = (8,6))\n",
    "sns.scatterplot(data = df, x = 'White Blood Cells', y = 'Red Blood Cells',hue = 'Disease', palette = col)\n",
    "plt.show()"
   ]
  },
  {
   "cell_type": "markdown",
   "metadata": {},
   "source": [
    "## normal Red blood cells and high white blood cell is makes you Healthy.\n",
    "## Low red blood cells and high and normal white blood cells is affected Diabetes.\n",
    "## high white blood cells and normal red blood cells is affeced Thalasse."
   ]
  },
  {
   "cell_type": "code",
   "execution_count": 19,
   "metadata": {},
   "outputs": [
    {
     "data": {
      "image/png": "[encoded data removed]",
      "text/plain": [
       "<Figure size 800x600 with 1 Axes>"
      ]
     },
     "metadata": {},
     "output_type": "display_data"
    }
   ],
   "source": [
    "plt.figure(figsize = (8,6))\n",
    "sns.scatterplot(data = df, x = 'Insulin', y = 'BMI',hue = 'Disease', palette = col)\n",
    "plt.show()"
   ]
  },
  {
   "cell_type": "markdown",
   "metadata": {},
   "source": [
    "## normal and normal BMI and insulin is makes you healthy.\n",
    "## low and high insulin and BMI is affected Anemia.\n",
    "## high BMI is affected Thalasse."
   ]
  },
  {
   "cell_type": "code",
   "execution_count": 20,
   "metadata": {},
   "outputs": [
    {
     "data": {
      "image/png": "[encoded data removed]",
      "text/plain": [
       "<Figure size 800x600 with 1 Axes>"
      ]
     },
     "metadata": {},
     "output_type": "display_data"
    }
   ],
   "source": [
    "plt.figure(figsize = (8,6))\n",
    "sns.scatterplot(data = df, x = 'Cholesterol', y = 'BMI',hue = 'Disease', palette = col)\n",
    "plt.show()"
   ]
  },
  {
   "cell_type": "markdown",
   "metadata": {},
   "source": [
    "## high cholesrerol and normal BMI is makes you healthy.\n",
    "## high BMI and medium cholesterol is affected Thalasse.\n",
    "## low and medium of cholesterol and BMI is affected Animea."
   ]
  },
  {
   "cell_type": "markdown",
   "metadata": {},
   "source": [
    "# Encoding"
   ]
  },
  {
   "cell_type": "code",
   "execution_count": 21,
   "metadata": {},
   "outputs": [
    {
     "data": {
      "text/plain": [
       "Anemia      623\n",
       "Healthy     556\n",
       "Diabetes    540\n",
       "Thalasse    509\n",
       "Thromboc    123\n",
       "Name: Disease, dtype: int64"
      ]
     },
     "execution_count": 21,
     "metadata": {},
     "output_type": "execute_result"
    }
   ],
   "source": [
    "df.Disease.value_counts()"
   ]
  },
  {
   "cell_type": "code",
   "execution_count": 22,
   "metadata": {},
   "outputs": [],
   "source": [
    "df['Disease'].replace({'Healthy':1,'Diabetes':2,'Anemia':3,'Thalasse':4,'Thromboc':5}, inplace = True)"
   ]
  },
  {
   "cell_type": "code",
   "execution_count": 23,
   "metadata": {},
   "outputs": [
    {
     "data": {
      "text/plain": [
       "3    623\n",
       "1    556\n",
       "2    540\n",
       "4    509\n",
       "5    123\n",
       "Name: Disease, dtype: int64"
      ]
     },
     "execution_count": 23,
     "metadata": {},
     "output_type": "execute_result"
    }
   ],
   "source": [
    "df.Disease.value_counts()"
   ]
  },
  {
   "cell_type": "markdown",
   "metadata": {},
   "source": [
    "# Split"
   ]
  },
  {
   "cell_type": "code",
   "execution_count": 24,
   "metadata": {},
   "outputs": [
    {
     "name": "stdout",
     "output_type": "stream",
     "text": [
      "                                            Glucose  Cholesterol  Hemoglobin  \\\n",
      "Glucose                                    1.000000     0.201850    0.126152   \n",
      "Cholesterol                                0.201850     1.000000    0.207664   \n",
      "Hemoglobin                                 0.126152     0.207664    1.000000   \n",
      "Platelets                                  0.094962     0.014980    0.121879   \n",
      "White Blood Cells                          0.032513     0.011045    0.059539   \n",
      "Red Blood Cells                           -0.045155     0.121565    0.052803   \n",
      "Hematocrit                                 0.166459     0.090864   -0.016702   \n",
      "Mean Corpuscular Volume                   -0.000982    -0.074678   -0.130591   \n",
      "Mean Corpuscular Hemoglobin               -0.155353    -0.299422    0.188262   \n",
      "Mean Corpuscular Hemoglobin Concentration  0.053480     0.147722    0.052365   \n",
      "Insulin                                    0.088715     0.134951   -0.167248   \n",
      "BMI                                        0.362967    -0.123560   -0.036868   \n",
      "Systolic Blood Pressure                    0.009415    -0.168976    0.181431   \n",
      "Diastolic Blood Pressure                   0.088880    -0.026421    0.138348   \n",
      "Triglycerides                             -0.144596     0.168469    0.154553   \n",
      "HbA1c                                      0.047266     0.013902    0.052063   \n",
      "LDL Cholesterol                            0.102640     0.168118    0.302901   \n",
      "HDL Cholesterol                           -0.139997     0.146531   -0.011438   \n",
      "ALT                                       -0.005195     0.057961    0.020301   \n",
      "AST                                       -0.052142     0.155788   -0.095531   \n",
      "Heart Rate                                -0.025573    -0.154108    0.002655   \n",
      "Creatinine                                -0.221046    -0.021709   -0.059247   \n",
      "Troponin                                   0.222248    -0.071308   -0.096180   \n",
      "C-reactive Protein                         0.211177    -0.211815   -0.049385   \n",
      "Disease                                   -0.186779    -0.006306    0.083625   \n",
      "\n",
      "                                           Platelets  White Blood Cells  \\\n",
      "Glucose                                     0.094962           0.032513   \n",
      "Cholesterol                                 0.014980           0.011045   \n",
      "Hemoglobin                                  0.121879           0.059539   \n",
      "Platelets                                   1.000000          -0.081205   \n",
      "White Blood Cells                          -0.081205           1.000000   \n",
      "Red Blood Cells                             0.041547           0.068023   \n",
      "Hematocrit                                 -0.186816           0.249787   \n",
      "Mean Corpuscular Volume                     0.131429          -0.011324   \n",
      "Mean Corpuscular Hemoglobin                -0.079204           0.014312   \n",
      "Mean Corpuscular Hemoglobin Concentration  -0.015264          -0.041609   \n",
      "Insulin                                    -0.057901          -0.142297   \n",
      "BMI                                        -0.001734           0.074845   \n",
      "Systolic Blood Pressure                     0.032051          -0.034740   \n",
      "Diastolic Blood Pressure                    0.072356          -0.072728   \n",
      "Triglycerides                              -0.242272           0.090920   \n",
      "HbA1c                                       0.098628           0.034506   \n",
      "LDL Cholesterol                            -0.205245          -0.030755   \n",
      "HDL Cholesterol                            -0.196438          -0.037955   \n",
      "ALT                                        -0.097731           0.032459   \n",
      "AST                                         0.081491           0.152566   \n",
      "Heart Rate                                 -0.096443           0.198235   \n",
      "Creatinine                                 -0.020369           0.080568   \n",
      "Troponin                                   -0.014930          -0.122723   \n",
      "C-reactive Protein                         -0.020203           0.021788   \n",
      "Disease                                    -0.222591          -0.071455   \n",
      "\n",
      "                                           Red Blood Cells  Hematocrit  \\\n",
      "Glucose                                          -0.045155    0.166459   \n",
      "Cholesterol                                       0.121565    0.090864   \n",
      "Hemoglobin                                        0.052803   -0.016702   \n",
      "Platelets                                         0.041547   -0.186816   \n",
      "White Blood Cells                                 0.068023    0.249787   \n",
      "Red Blood Cells                                   1.000000   -0.084555   \n",
      "Hematocrit                                       -0.084555    1.000000   \n",
      "Mean Corpuscular Volume                          -0.154514    0.055150   \n",
      "Mean Corpuscular Hemoglobin                      -0.020241   -0.099970   \n",
      "Mean Corpuscular Hemoglobin Concentration        -0.123454   -0.025486   \n",
      "Insulin                                          -0.205545   -0.063601   \n",
      "BMI                                               0.021302    0.217344   \n",
      "Systolic Blood Pressure                           0.001599    0.007132   \n",
      "Diastolic Blood Pressure                         -0.101281   -0.071468   \n",
      "Triglycerides                                     0.067237   -0.112917   \n",
      "HbA1c                                             0.148803   -0.027707   \n",
      "LDL Cholesterol                                   0.169262   -0.033376   \n",
      "HDL Cholesterol                                   0.252507    0.036883   \n",
      "ALT                                               0.178947   -0.034960   \n",
      "AST                                              -0.191404   -0.107572   \n",
      "Heart Rate                                        0.036679   -0.099788   \n",
      "Creatinine                                       -0.110708   -0.019058   \n",
      "Troponin                                         -0.104942    0.198434   \n",
      "C-reactive Protein                               -0.175794   -0.079240   \n",
      "Disease                                          -0.065732   -0.081572   \n",
      "\n",
      "                                           Mean Corpuscular Volume  \\\n",
      "Glucose                                                  -0.000982   \n",
      "Cholesterol                                              -0.074678   \n",
      "Hemoglobin                                               -0.130591   \n",
      "Platelets                                                 0.131429   \n",
      "White Blood Cells                                        -0.011324   \n",
      "Red Blood Cells                                          -0.154514   \n",
      "Hematocrit                                                0.055150   \n",
      "Mean Corpuscular Volume                                   1.000000   \n",
      "Mean Corpuscular Hemoglobin                               0.001776   \n",
      "Mean Corpuscular Hemoglobin Concentration                 0.141168   \n",
      "Insulin                                                   0.177385   \n",
      "BMI                                                      -0.109982   \n",
      "Systolic Blood Pressure                                   0.020579   \n",
      "Diastolic Blood Pressure                                 -0.043812   \n",
      "Triglycerides                                            -0.143843   \n",
      "HbA1c                                                    -0.064528   \n",
      "LDL Cholesterol                                          -0.197323   \n",
      "HDL Cholesterol                                          -0.097428   \n",
      "ALT                                                       0.015310   \n",
      "AST                                                      -0.002724   \n",
      "Heart Rate                                               -0.167693   \n",
      "Creatinine                                               -0.000606   \n",
      "Troponin                                                  0.137077   \n",
      "C-reactive Protein                                       -0.101596   \n",
      "Disease                                                   0.154549   \n",
      "\n",
      "                                           Mean Corpuscular Hemoglobin  \\\n",
      "Glucose                                                      -0.155353   \n",
      "Cholesterol                                                  -0.299422   \n",
      "Hemoglobin                                                    0.188262   \n",
      "Platelets                                                    -0.079204   \n",
      "White Blood Cells                                             0.014312   \n",
      "Red Blood Cells                                              -0.020241   \n",
      "Hematocrit                                                   -0.099970   \n",
      "Mean Corpuscular Volume                                       0.001776   \n",
      "Mean Corpuscular Hemoglobin                                   1.000000   \n",
      "Mean Corpuscular Hemoglobin Concentration                    -0.021991   \n",
      "Insulin                                                      -0.043061   \n",
      "BMI                                                           0.013639   \n",
      "Systolic Blood Pressure                                       0.021558   \n",
      "Diastolic Blood Pressure                                      0.068497   \n",
      "Triglycerides                                                 0.065253   \n",
      "HbA1c                                                        -0.150571   \n",
      "LDL Cholesterol                                               0.180734   \n",
      "HDL Cholesterol                                              -0.014948   \n",
      "ALT                                                          -0.101612   \n",
      "AST                                                           0.087612   \n",
      "Heart Rate                                                    0.043941   \n",
      "Creatinine                                                   -0.162132   \n",
      "Troponin                                                     -0.213429   \n",
      "C-reactive Protein                                            0.066459   \n",
      "Disease                                                       0.287396   \n",
      "\n",
      "                                           Mean Corpuscular Hemoglobin Concentration  \\\n",
      "Glucose                                                                     0.053480   \n",
      "Cholesterol                                                                 0.147722   \n",
      "Hemoglobin                                                                  0.052365   \n",
      "Platelets                                                                  -0.015264   \n",
      "White Blood Cells                                                          -0.041609   \n",
      "Red Blood Cells                                                            -0.123454   \n",
      "Hematocrit                                                                 -0.025486   \n",
      "Mean Corpuscular Volume                                                     0.141168   \n",
      "Mean Corpuscular Hemoglobin                                                -0.021991   \n",
      "Mean Corpuscular Hemoglobin Concentration                                   1.000000   \n",
      "Insulin                                                                    -0.120040   \n",
      "BMI                                                                        -0.122323   \n",
      "Systolic Blood Pressure                                                    -0.106172   \n",
      "Diastolic Blood Pressure                                                   -0.165868   \n",
      "Triglycerides                                                               0.159302   \n",
      "HbA1c                                                                       0.156547   \n",
      "LDL Cholesterol                                                             0.146897   \n",
      "HDL Cholesterol                                                            -0.093480   \n",
      "ALT                                                                        -0.222864   \n",
      "AST                                                                         0.049895   \n",
      "Heart Rate                                                                 -0.075725   \n",
      "Creatinine                                                                  0.067239   \n",
      "Troponin                                                                    0.090829   \n",
      "C-reactive Protein                                                          0.043567   \n",
      "Disease                                                                    -0.036793   \n",
      "\n",
      "                                            Insulin       BMI  \\\n",
      "Glucose                                    0.088715  0.362967   \n",
      "Cholesterol                                0.134951 -0.123560   \n",
      "Hemoglobin                                -0.167248 -0.036868   \n",
      "Platelets                                 -0.057901 -0.001734   \n",
      "White Blood Cells                         -0.142297  0.074845   \n",
      "Red Blood Cells                           -0.205545  0.021302   \n",
      "Hematocrit                                -0.063601  0.217344   \n",
      "Mean Corpuscular Volume                    0.177385 -0.109982   \n",
      "Mean Corpuscular Hemoglobin               -0.043061  0.013639   \n",
      "Mean Corpuscular Hemoglobin Concentration -0.120040 -0.122323   \n",
      "Insulin                                    1.000000 -0.118720   \n",
      "BMI                                       -0.118720  1.000000   \n",
      "Systolic Blood Pressure                   -0.015090  0.062317   \n",
      "Diastolic Blood Pressure                   0.222816  0.300301   \n",
      "Triglycerides                              0.088584 -0.139892   \n",
      "HbA1c                                     -0.014179 -0.031766   \n",
      "LDL Cholesterol                            0.028592  0.155515   \n",
      "HDL Cholesterol                           -0.115257 -0.211108   \n",
      "ALT                                        0.254003  0.148121   \n",
      "AST                                        0.247473 -0.247911   \n",
      "Heart Rate                                -0.219130 -0.010549   \n",
      "Creatinine                                 0.114242 -0.242802   \n",
      "Troponin                                   0.095222  0.113889   \n",
      "C-reactive Protein                        -0.104680 -0.063434   \n",
      "Disease                                   -0.129640 -0.062962   \n",
      "\n",
      "                                           Systolic Blood Pressure  \\\n",
      "Glucose                                                   0.009415   \n",
      "Cholesterol                                              -0.168976   \n",
      "Hemoglobin                                                0.181431   \n",
      "Platelets                                                 0.032051   \n",
      "White Blood Cells                                        -0.034740   \n",
      "Red Blood Cells                                           0.001599   \n",
      "Hematocrit                                                0.007132   \n",
      "Mean Corpuscular Volume                                   0.020579   \n",
      "Mean Corpuscular Hemoglobin                               0.021558   \n",
      "Mean Corpuscular Hemoglobin Concentration                -0.106172   \n",
      "Insulin                                                  -0.015090   \n",
      "BMI                                                       0.062317   \n",
      "Systolic Blood Pressure                                   1.000000   \n",
      "Diastolic Blood Pressure                                  0.219263   \n",
      "Triglycerides                                            -0.113976   \n",
      "HbA1c                                                    -0.000822   \n",
      "LDL Cholesterol                                           0.046908   \n",
      "HDL Cholesterol                                          -0.158861   \n",
      "ALT                                                       0.026754   \n",
      "AST                                                      -0.172594   \n",
      "Heart Rate                                                0.064057   \n",
      "Creatinine                                               -0.058369   \n",
      "Troponin                                                 -0.053094   \n",
      "C-reactive Protein                                        0.099615   \n",
      "Disease                                                  -0.023312   \n",
      "\n",
      "                                           Diastolic Blood Pressure  \\\n",
      "Glucose                                                    0.088880   \n",
      "Cholesterol                                               -0.026421   \n",
      "Hemoglobin                                                 0.138348   \n",
      "Platelets                                                  0.072356   \n",
      "White Blood Cells                                         -0.072728   \n",
      "Red Blood Cells                                           -0.101281   \n",
      "Hematocrit                                                -0.071468   \n",
      "Mean Corpuscular Volume                                   -0.043812   \n",
      "Mean Corpuscular Hemoglobin                                0.068497   \n",
      "Mean Corpuscular Hemoglobin Concentration                 -0.165868   \n",
      "Insulin                                                    0.222816   \n",
      "BMI                                                        0.300301   \n",
      "Systolic Blood Pressure                                    0.219263   \n",
      "Diastolic Blood Pressure                                   1.000000   \n",
      "Triglycerides                                              0.029811   \n",
      "HbA1c                                                     -0.024226   \n",
      "LDL Cholesterol                                            0.141128   \n",
      "HDL Cholesterol                                           -0.109306   \n",
      "ALT                                                        0.053070   \n",
      "AST                                                       -0.014784   \n",
      "Heart Rate                                                -0.101162   \n",
      "Creatinine                                                 0.180475   \n",
      "Troponin                                                  -0.134111   \n",
      "C-reactive Protein                                         0.060855   \n",
      "Disease                                                   -0.111416   \n",
      "\n",
      "                                           Triglycerides     HbA1c  \\\n",
      "Glucose                                        -0.144596  0.047266   \n",
      "Cholesterol                                     0.168469  0.013902   \n",
      "Hemoglobin                                      0.154553  0.052063   \n",
      "Platelets                                      -0.242272  0.098628   \n",
      "White Blood Cells                               0.090920  0.034506   \n",
      "Red Blood Cells                                 0.067237  0.148803   \n",
      "Hematocrit                                     -0.112917 -0.027707   \n",
      "Mean Corpuscular Volume                        -0.143843 -0.064528   \n",
      "Mean Corpuscular Hemoglobin                     0.065253 -0.150571   \n",
      "Mean Corpuscular Hemoglobin Concentration       0.159302  0.156547   \n",
      "Insulin                                         0.088584 -0.014179   \n",
      "BMI                                            -0.139892 -0.031766   \n",
      "Systolic Blood Pressure                        -0.113976 -0.000822   \n",
      "Diastolic Blood Pressure                        0.029811 -0.024226   \n",
      "Triglycerides                                   1.000000 -0.152671   \n",
      "HbA1c                                          -0.152671  1.000000   \n",
      "LDL Cholesterol                                 0.235197  0.024216   \n",
      "HDL Cholesterol                                 0.083669 -0.202475   \n",
      "ALT                                            -0.024549  0.033612   \n",
      "AST                                            -0.036038  0.018971   \n",
      "Heart Rate                                      0.108378  0.128441   \n",
      "Creatinine                                     -0.034711  0.211831   \n",
      "Troponin                                       -0.003674  0.248086   \n",
      "C-reactive Protein                              0.012370  0.199811   \n",
      "Disease                                        -0.132758 -0.047299   \n",
      "\n",
      "                                           LDL Cholesterol  HDL Cholesterol  \\\n",
      "Glucose                                           0.102640        -0.139997   \n",
      "Cholesterol                                       0.168118         0.146531   \n",
      "Hemoglobin                                        0.302901        -0.011438   \n",
      "Platelets                                        -0.205245        -0.196438   \n",
      "White Blood Cells                                -0.030755        -0.037955   \n",
      "Red Blood Cells                                   0.169262         0.252507   \n",
      "Hematocrit                                       -0.033376         0.036883   \n",
      "Mean Corpuscular Volume                          -0.197323        -0.097428   \n",
      "Mean Corpuscular Hemoglobin                       0.180734        -0.014948   \n",
      "Mean Corpuscular Hemoglobin Concentration         0.146897        -0.093480   \n",
      "Insulin                                           0.028592        -0.115257   \n",
      "BMI                                               0.155515        -0.211108   \n",
      "Systolic Blood Pressure                           0.046908        -0.158861   \n",
      "Diastolic Blood Pressure                          0.141128        -0.109306   \n",
      "Triglycerides                                     0.235197         0.083669   \n",
      "HbA1c                                             0.024216        -0.202475   \n",
      "LDL Cholesterol                                   1.000000        -0.079319   \n",
      "HDL Cholesterol                                  -0.079319         1.000000   \n",
      "ALT                                               0.123723        -0.022943   \n",
      "AST                                              -0.070325        -0.156386   \n",
      "Heart Rate                                       -0.128542         0.071910   \n",
      "Creatinine                                       -0.002622        -0.019922   \n",
      "Troponin                                         -0.221478        -0.236338   \n",
      "C-reactive Protein                                0.007974        -0.262912   \n",
      "Disease                                          -0.171113         0.063950   \n",
      "\n",
      "                                                ALT       AST  Heart Rate  \\\n",
      "Glucose                                   -0.005195 -0.052142   -0.025573   \n",
      "Cholesterol                                0.057961  0.155788   -0.154108   \n",
      "Hemoglobin                                 0.020301 -0.095531    0.002655   \n",
      "Platelets                                 -0.097731  0.081491   -0.096443   \n",
      "White Blood Cells                          0.032459  0.152566    0.198235   \n",
      "Red Blood Cells                            0.178947 -0.191404    0.036679   \n",
      "Hematocrit                                -0.034960 -0.107572   -0.099788   \n",
      "Mean Corpuscular Volume                    0.015310 -0.002724   -0.167693   \n",
      "Mean Corpuscular Hemoglobin               -0.101612  0.087612    0.043941   \n",
      "Mean Corpuscular Hemoglobin Concentration -0.222864  0.049895   -0.075725   \n",
      "Insulin                                    0.254003  0.247473   -0.219130   \n",
      "BMI                                        0.148121 -0.247911   -0.010549   \n",
      "Systolic Blood Pressure                    0.026754 -0.172594    0.064057   \n",
      "Diastolic Blood Pressure                   0.053070 -0.014784   -0.101162   \n",
      "Triglycerides                             -0.024549 -0.036038    0.108378   \n",
      "HbA1c                                      0.033612  0.018971    0.128441   \n",
      "LDL Cholesterol                            0.123723 -0.070325   -0.128542   \n",
      "HDL Cholesterol                           -0.022943 -0.156386    0.071910   \n",
      "ALT                                        1.000000 -0.191421    0.002931   \n",
      "AST                                       -0.191421  1.000000   -0.106876   \n",
      "Heart Rate                                 0.002931 -0.106876    1.000000   \n",
      "Creatinine                                 0.077328 -0.053413    0.046842   \n",
      "Troponin                                  -0.161604 -0.090436   -0.084585   \n",
      "C-reactive Protein                        -0.089810 -0.028410    0.148578   \n",
      "Disease                                    0.139194  0.009338    0.191625   \n",
      "\n",
      "                                           Creatinine  Troponin  \\\n",
      "Glucose                                     -0.221046  0.222248   \n",
      "Cholesterol                                 -0.021709 -0.071308   \n",
      "Hemoglobin                                  -0.059247 -0.096180   \n",
      "Platelets                                   -0.020369 -0.014930   \n",
      "White Blood Cells                            0.080568 -0.122723   \n",
      "Red Blood Cells                             -0.110708 -0.104942   \n",
      "Hematocrit                                  -0.019058  0.198434   \n",
      "Mean Corpuscular Volume                     -0.000606  0.137077   \n",
      "Mean Corpuscular Hemoglobin                 -0.162132 -0.213429   \n",
      "Mean Corpuscular Hemoglobin Concentration    0.067239  0.090829   \n",
      "Insulin                                      0.114242  0.095222   \n",
      "BMI                                         -0.242802  0.113889   \n",
      "Systolic Blood Pressure                     -0.058369 -0.053094   \n",
      "Diastolic Blood Pressure                     0.180475 -0.134111   \n",
      "Triglycerides                               -0.034711 -0.003674   \n",
      "HbA1c                                        0.211831  0.248086   \n",
      "LDL Cholesterol                             -0.002622 -0.221478   \n",
      "HDL Cholesterol                             -0.019922 -0.236338   \n",
      "ALT                                          0.077328 -0.161604   \n",
      "AST                                         -0.053413 -0.090436   \n",
      "Heart Rate                                   0.046842 -0.084585   \n",
      "Creatinine                                   1.000000 -0.018360   \n",
      "Troponin                                    -0.018360  1.000000   \n",
      "C-reactive Protein                           0.055933  0.083052   \n",
      "Disease                                     -0.012433 -0.071815   \n",
      "\n",
      "                                           C-reactive Protein   Disease  \n",
      "Glucose                                              0.211177 -0.186779  \n",
      "Cholesterol                                         -0.211815 -0.006306  \n",
      "Hemoglobin                                          -0.049385  0.083625  \n",
      "Platelets                                           -0.020203 -0.222591  \n",
      "White Blood Cells                                    0.021788 -0.071455  \n",
      "Red Blood Cells                                     -0.175794 -0.065732  \n",
      "Hematocrit                                          -0.079240 -0.081572  \n",
      "Mean Corpuscular Volume                             -0.101596  0.154549  \n",
      "Mean Corpuscular Hemoglobin                          0.066459  0.287396  \n",
      "Mean Corpuscular Hemoglobin Concentration            0.043567 -0.036793  \n",
      "Insulin                                             -0.104680 -0.129640  \n",
      "BMI                                                 -0.063434 -0.062962  \n",
      "Systolic Blood Pressure                              0.099615 -0.023312  \n",
      "Diastolic Blood Pressure                             0.060855 -0.111416  \n",
      "Triglycerides                                        0.012370 -0.132758  \n",
      "HbA1c                                                0.199811 -0.047299  \n",
      "LDL Cholesterol                                      0.007974 -0.171113  \n",
      "HDL Cholesterol                                     -0.262912  0.063950  \n",
      "ALT                                                 -0.089810  0.139194  \n",
      "AST                                                 -0.028410  0.009338  \n",
      "Heart Rate                                           0.148578  0.191625  \n",
      "Creatinine                                           0.055933 -0.012433  \n",
      "Troponin                                             0.083052 -0.071815  \n",
      "C-reactive Protein                                   1.000000  0.133140  \n",
      "Disease                                              0.133140  1.000000  \n"
     ]
    }
   ],
   "source": [
    "s = df.corr()\n",
    "print(s)"
   ]
  },
  {
   "cell_type": "code",
   "execution_count": 25,
   "metadata": {},
   "outputs": [],
   "source": [
    "x = df.drop('Disease',axis = 1)\n",
    "y = df['Disease']"
   ]
  },
  {
   "cell_type": "code",
   "execution_count": 26,
   "metadata": {},
   "outputs": [
    {
     "data": {
      "text/html": [
       "<div>\n",
       "<style scoped>\n",
       "    .dataframe tbody tr th:only-of-type {\n",
       "        vertical-align: middle;\n",
       "    }\n",
       "\n",
       "    .dataframe tbody tr th {\n",
       "        vertical-align: top;\n",
       "    }\n",
       "\n",
       "    .dataframe thead th {\n",
       "        text-align: right;\n",
       "    }\n",
       "</style>\n",
       "<table border=\"1\" class=\"dataframe\">\n",
       "  <thead>\n",
       "    <tr style=\"text-align: right;\">\n",
       "      <th></th>\n",
       "      <th>Glucose</th>\n",
       "      <th>Cholesterol</th>\n",
       "      <th>Hemoglobin</th>\n",
       "      <th>Platelets</th>\n",
       "      <th>White Blood Cells</th>\n",
       "      <th>Red Blood Cells</th>\n",
       "      <th>Hematocrit</th>\n",
       "      <th>Mean Corpuscular Volume</th>\n",
       "      <th>Mean Corpuscular Hemoglobin</th>\n",
       "      <th>Mean Corpuscular Hemoglobin Concentration</th>\n",
       "      <th>Insulin</th>\n",
       "      <th>BMI</th>\n",
       "      <th>Systolic Blood Pressure</th>\n",
       "      <th>Diastolic Blood Pressure</th>\n",
       "      <th>Triglycerides</th>\n",
       "      <th>HbA1c</th>\n",
       "      <th>LDL Cholesterol</th>\n",
       "      <th>HDL Cholesterol</th>\n",
       "      <th>ALT</th>\n",
       "      <th>AST</th>\n",
       "      <th>Heart Rate</th>\n",
       "      <th>Creatinine</th>\n",
       "      <th>Troponin</th>\n",
       "      <th>C-reactive Protein</th>\n",
       "    </tr>\n",
       "  </thead>\n",
       "  <tbody>\n",
       "    <tr>\n",
       "      <th>0</th>\n",
       "      <td>0.739597</td>\n",
       "      <td>0.650198</td>\n",
       "      <td>0.713631</td>\n",
       "      <td>0.868491</td>\n",
       "      <td>0.687433</td>\n",
       "      <td>0.529895</td>\n",
       "      <td>0.290006</td>\n",
       "      <td>0.631045</td>\n",
       "      <td>0.001328</td>\n",
       "      <td>0.795829</td>\n",
       "      <td>0.034129</td>\n",
       "      <td>0.071774</td>\n",
       "      <td>0.185596</td>\n",
       "      <td>0.071455</td>\n",
       "      <td>0.653472</td>\n",
       "      <td>0.502665</td>\n",
       "      <td>0.215560</td>\n",
       "      <td>0.512941</td>\n",
       "      <td>0.064187</td>\n",
       "      <td>0.610827</td>\n",
       "      <td>0.939485</td>\n",
       "      <td>0.095512</td>\n",
       "      <td>0.465957</td>\n",
       "      <td>0.769230</td>\n",
       "    </tr>\n",
       "    <tr>\n",
       "      <th>1</th>\n",
       "      <td>0.121786</td>\n",
       "      <td>0.023058</td>\n",
       "      <td>0.944893</td>\n",
       "      <td>0.905372</td>\n",
       "      <td>0.507711</td>\n",
       "      <td>0.403033</td>\n",
       "      <td>0.164216</td>\n",
       "      <td>0.307553</td>\n",
       "      <td>0.207938</td>\n",
       "      <td>0.505562</td>\n",
       "      <td>0.571162</td>\n",
       "      <td>0.839271</td>\n",
       "      <td>0.580903</td>\n",
       "      <td>0.556037</td>\n",
       "      <td>0.477742</td>\n",
       "      <td>0.856810</td>\n",
       "      <td>0.652465</td>\n",
       "      <td>0.106961</td>\n",
       "      <td>0.942549</td>\n",
       "      <td>0.344261</td>\n",
       "      <td>0.666368</td>\n",
       "      <td>0.659060</td>\n",
       "      <td>0.816982</td>\n",
       "      <td>0.401166</td>\n",
       "    </tr>\n",
       "    <tr>\n",
       "      <th>2</th>\n",
       "      <td>0.452539</td>\n",
       "      <td>0.116135</td>\n",
       "      <td>0.544560</td>\n",
       "      <td>0.400640</td>\n",
       "      <td>0.294538</td>\n",
       "      <td>0.382021</td>\n",
       "      <td>0.625267</td>\n",
       "      <td>0.295122</td>\n",
       "      <td>0.868369</td>\n",
       "      <td>0.026808</td>\n",
       "      <td>0.582170</td>\n",
       "      <td>0.577423</td>\n",
       "      <td>0.045782</td>\n",
       "      <td>0.663642</td>\n",
       "      <td>0.088940</td>\n",
       "      <td>0.466795</td>\n",
       "      <td>0.387332</td>\n",
       "      <td>0.421763</td>\n",
       "      <td>0.007186</td>\n",
       "      <td>0.506918</td>\n",
       "      <td>0.431704</td>\n",
       "      <td>0.417295</td>\n",
       "      <td>0.799074</td>\n",
       "      <td>0.779208</td>\n",
       "    </tr>\n",
       "    <tr>\n",
       "      <th>3</th>\n",
       "      <td>0.136609</td>\n",
       "      <td>0.015605</td>\n",
       "      <td>0.419957</td>\n",
       "      <td>0.191487</td>\n",
       "      <td>0.081168</td>\n",
       "      <td>0.166214</td>\n",
       "      <td>0.073293</td>\n",
       "      <td>0.668719</td>\n",
       "      <td>0.125447</td>\n",
       "      <td>0.501051</td>\n",
       "      <td>0.620258</td>\n",
       "      <td>0.169059</td>\n",
       "      <td>0.139289</td>\n",
       "      <td>0.160496</td>\n",
       "      <td>0.406528</td>\n",
       "      <td>0.016256</td>\n",
       "      <td>0.040137</td>\n",
       "      <td>0.826721</td>\n",
       "      <td>0.265415</td>\n",
       "      <td>0.594148</td>\n",
       "      <td>0.225756</td>\n",
       "      <td>0.490349</td>\n",
       "      <td>0.637061</td>\n",
       "      <td>0.354094</td>\n",
       "    </tr>\n",
       "    <tr>\n",
       "      <th>4</th>\n",
       "      <td>0.176737</td>\n",
       "      <td>0.752220</td>\n",
       "      <td>0.971779</td>\n",
       "      <td>0.785286</td>\n",
       "      <td>0.443880</td>\n",
       "      <td>0.439851</td>\n",
       "      <td>0.894991</td>\n",
       "      <td>0.442159</td>\n",
       "      <td>0.257288</td>\n",
       "      <td>0.805987</td>\n",
       "      <td>0.184371</td>\n",
       "      <td>0.580175</td>\n",
       "      <td>0.118461</td>\n",
       "      <td>0.005579</td>\n",
       "      <td>0.414407</td>\n",
       "      <td>0.429431</td>\n",
       "      <td>0.146294</td>\n",
       "      <td>0.221574</td>\n",
       "      <td>0.015280</td>\n",
       "      <td>0.567115</td>\n",
       "      <td>0.841412</td>\n",
       "      <td>0.153350</td>\n",
       "      <td>0.794008</td>\n",
       "      <td>0.094970</td>\n",
       "    </tr>\n",
       "  </tbody>\n",
       "</table>\n",
       "</div>"
      ],
      "text/plain": [
       "    Glucose  Cholesterol  Hemoglobin  Platelets  White Blood Cells  \\\n",
       "0  0.739597     0.650198    0.713631   0.868491           0.687433   \n",
       "1  0.121786     0.023058    0.944893   0.905372           0.507711   \n",
       "2  0.452539     0.116135    0.544560   0.400640           0.294538   \n",
       "3  0.136609     0.015605    0.419957   0.191487           0.081168   \n",
       "4  0.176737     0.752220    0.971779   0.785286           0.443880   \n",
       "\n",
       "   Red Blood Cells  Hematocrit  Mean Corpuscular Volume  \\\n",
       "0         0.529895    0.290006                 0.631045   \n",
       "1         0.403033    0.164216                 0.307553   \n",
       "2         0.382021    0.625267                 0.295122   \n",
       "3         0.166214    0.073293                 0.668719   \n",
       "4         0.439851    0.894991                 0.442159   \n",
       "\n",
       "   Mean Corpuscular Hemoglobin  Mean Corpuscular Hemoglobin Concentration  \\\n",
       "0                     0.001328                                   0.795829   \n",
       "1                     0.207938                                   0.505562   \n",
       "2                     0.868369                                   0.026808   \n",
       "3                     0.125447                                   0.501051   \n",
       "4                     0.257288                                   0.805987   \n",
       "\n",
       "    Insulin       BMI  Systolic Blood Pressure  Diastolic Blood Pressure  \\\n",
       "0  0.034129  0.071774                 0.185596                  0.071455   \n",
       "1  0.571162  0.839271                 0.580903                  0.556037   \n",
       "2  0.582170  0.577423                 0.045782                  0.663642   \n",
       "3  0.620258  0.169059                 0.139289                  0.160496   \n",
       "4  0.184371  0.580175                 0.118461                  0.005579   \n",
       "\n",
       "   Triglycerides     HbA1c  LDL Cholesterol  HDL Cholesterol       ALT  \\\n",
       "0       0.653472  0.502665         0.215560         0.512941  0.064187   \n",
       "1       0.477742  0.856810         0.652465         0.106961  0.942549   \n",
       "2       0.088940  0.466795         0.387332         0.421763  0.007186   \n",
       "3       0.406528  0.016256         0.040137         0.826721  0.265415   \n",
       "4       0.414407  0.429431         0.146294         0.221574  0.015280   \n",
       "\n",
       "        AST  Heart Rate  Creatinine  Troponin  C-reactive Protein  \n",
       "0  0.610827    0.939485    0.095512  0.465957            0.769230  \n",
       "1  0.344261    0.666368    0.659060  0.816982            0.401166  \n",
       "2  0.506918    0.431704    0.417295  0.799074            0.779208  \n",
       "3  0.594148    0.225756    0.490349  0.637061            0.354094  \n",
       "4  0.567115    0.841412    0.153350  0.794008            0.094970  "
      ]
     },
     "execution_count": 26,
     "metadata": {},
     "output_type": "execute_result"
    }
   ],
   "source": [
    "x.head()"
   ]
  },
  {
   "cell_type": "code",
   "execution_count": 27,
   "metadata": {},
   "outputs": [
    {
     "data": {
      "text/plain": [
       "0       1\n",
       "1       2\n",
       "2       4\n",
       "3       3\n",
       "4       4\n",
       "       ..\n",
       "2346    2\n",
       "2347    4\n",
       "2348    3\n",
       "2349    2\n",
       "2350    3\n",
       "Name: Disease, Length: 2351, dtype: int64"
      ]
     },
     "execution_count": 27,
     "metadata": {},
     "output_type": "execute_result"
    }
   ],
   "source": [
    "y"
   ]
  },
  {
   "cell_type": "markdown",
   "metadata": {},
   "source": [
    "# spliting"
   ]
  },
  {
   "cell_type": "code",
   "execution_count": 28,
   "metadata": {},
   "outputs": [],
   "source": [
    "from sklearn.model_selection import train_test_split"
   ]
  },
  {
   "cell_type": "code",
   "execution_count": 29,
   "metadata": {},
   "outputs": [],
   "source": [
    "x_train,x_test,y_train,y_test = train_test_split(x,y,test_size = 0.2,random_state = 42)"
   ]
  },
  {
   "cell_type": "code",
   "execution_count": 30,
   "metadata": {},
   "outputs": [
    {
     "data": {
      "text/plain": [
       "(1880, 24)"
      ]
     },
     "execution_count": 30,
     "metadata": {},
     "output_type": "execute_result"
    }
   ],
   "source": [
    "x_train.shape"
   ]
  },
  {
   "cell_type": "code",
   "execution_count": 31,
   "metadata": {},
   "outputs": [
    {
     "data": {
      "text/plain": [
       "(471,)"
      ]
     },
     "execution_count": 31,
     "metadata": {},
     "output_type": "execute_result"
    }
   ],
   "source": [
    "y_test.shape"
   ]
  },
  {
   "cell_type": "markdown",
   "metadata": {},
   "source": [
    "# model creation"
   ]
  },
  {
   "cell_type": "code",
   "execution_count": 32,
   "metadata": {},
   "outputs": [
    {
     "data": {
      "text/html": [
       "<style>#sk-container-id-1 {color: black;background-color: white;}#sk-container-id-1 pre{padding: 0;}#sk-container-id-1 div.sk-toggleable {background-color: white;}#sk-container-id-1 label.sk-toggleable__label {cursor: pointer;display: block;width: 100%;margin-bottom: 0;padding: 0.3em;box-sizing: border-box;text-align: center;}#sk-container-id-1 label.sk-toggleable__label-arrow:before {content: \"▸\";float: left;margin-right: 0.25em;color: #696969;}#sk-container-id-1 label.sk-toggleable__label-arrow:hover:before {color: black;}#sk-container-id-1 div.sk-estimator:hover label.sk-toggleable__label-arrow:before {color: black;}#sk-container-id-1 div.sk-toggleable__content {max-height: 0;max-width: 0;overflow: hidden;text-align: left;background-color: #f0f8ff;}#sk-container-id-1 div.sk-toggleable__content pre {margin: 0.2em;color: black;border-radius: 0.25em;background-color: #f0f8ff;}#sk-container-id-1 input.sk-toggleable__control:checked~div.sk-toggleable__content {max-height: 200px;max-width: 100%;overflow: auto;}#sk-container-id-1 input.sk-toggleable__control:checked~label.sk-toggleable__label-arrow:before {content: \"▾\";}#sk-container-id-1 div.sk-estimator input.sk-toggleable__control:checked~label.sk-toggleable__label {background-color: #d4ebff;}#sk-container-id-1 div.sk-label input.sk-toggleable__control:checked~label.sk-toggleable__label {background-color: #d4ebff;}#sk-container-id-1 input.sk-hidden--visually {border: 0;clip: rect(1px 1px 1px 1px);clip: rect(1px, 1px, 1px, 1px);height: 1px;margin: -1px;overflow: hidden;padding: 0;position: absolute;width: 1px;}#sk-container-id-1 div.sk-estimator {font-family: monospace;background-color: #f0f8ff;border: 1px dotted black;border-radius: 0.25em;box-sizing: border-box;margin-bottom: 0.5em;}#sk-container-id-1 div.sk-estimator:hover {background-color: #d4ebff;}#sk-container-id-1 div.sk-parallel-item::after {content: \"\";width: 100%;border-bottom: 1px solid gray;flex-grow: 1;}#sk-container-id-1 div.sk-label:hover label.sk-toggleable__label {background-color: #d4ebff;}#sk-container-id-1 div.sk-serial::before {content: \"\";position: absolute;border-left: 1px solid gray;box-sizing: border-box;top: 0;bottom: 0;left: 50%;z-index: 0;}#sk-container-id-1 div.sk-serial {display: flex;flex-direction: column;align-items: center;background-color: white;padding-right: 0.2em;padding-left: 0.2em;position: relative;}#sk-container-id-1 div.sk-item {position: relative;z-index: 1;}#sk-container-id-1 div.sk-parallel {display: flex;align-items: stretch;justify-content: center;background-color: white;position: relative;}#sk-container-id-1 div.sk-item::before, #sk-container-id-1 div.sk-parallel-item::before {content: \"\";position: absolute;border-left: 1px solid gray;box-sizing: border-box;top: 0;bottom: 0;left: 50%;z-index: -1;}#sk-container-id-1 div.sk-parallel-item {display: flex;flex-direction: column;z-index: 1;position: relative;background-color: white;}#sk-container-id-1 div.sk-parallel-item:first-child::after {align-self: flex-end;width: 50%;}#sk-container-id-1 div.sk-parallel-item:last-child::after {align-self: flex-start;width: 50%;}#sk-container-id-1 div.sk-parallel-item:only-child::after {width: 0;}#sk-container-id-1 div.sk-dashed-wrapped {border: 1px dashed gray;margin: 0 0.4em 0.5em 0.4em;box-sizing: border-box;padding-bottom: 0.4em;background-color: white;}#sk-container-id-1 div.sk-label label {font-family: monospace;font-weight: bold;display: inline-block;line-height: 1.2em;}#sk-container-id-1 div.sk-label-container {text-align: center;}#sk-container-id-1 div.sk-container {/* jupyter's `normalize.less` sets `[hidden] { display: none; }` but bootstrap.min.css set `[hidden] { display: none !important; }` so we also need the `!important` here to be able to override the default hidden behavior on the sphinx rendered scikit-learn.org. See: https://github.com/scikit-learn/scikit-learn/issues/21755 */display: inline-block !important;position: relative;}#sk-container-id-1 div.sk-text-repr-fallback {display: none;}</style><div id=\"sk-container-id-1\" class=\"sk-top-container\"><div class=\"sk-text-repr-fallback\"><pre>RandomForestClassifier()</pre><b>In a Jupyter environment, please rerun this cell to show the HTML representation or trust the notebook. <br />On GitHub, the HTML representation is unable to render, please try loading this page with nbviewer.org.</b></div><div class=\"sk-container\" hidden><div class=\"sk-item\"><div class=\"sk-estimator sk-toggleable\"><input class=\"sk-toggleable__control sk-hidden--visually\" id=\"sk-estimator-id-1\" type=\"checkbox\" checked><label for=\"sk-estimator-id-1\" class=\"sk-toggleable__label sk-toggleable__label-arrow\">RandomForestClassifier</label><div class=\"sk-toggleable__content\"><pre>RandomForestClassifier()</pre></div></div></div></div></div>"
      ],
      "text/plain": [
       "RandomForestClassifier()"
      ]
     },
     "execution_count": 32,
     "metadata": {},
     "output_type": "execute_result"
    }
   ],
   "source": [
    "from sklearn.ensemble import RandomForestClassifier\n",
    "from sklearn.metrics import accuracy_score, classification_report, make_scorer\n",
    "rc = RandomForestClassifier()\n",
    "rc.fit(x_train,y_train)"
   ]
  },
  {
   "cell_type": "code",
   "execution_count": 33,
   "metadata": {},
   "outputs": [
    {
     "data": {
      "text/plain": [
       "array([4, 4, 4, ..., 4, 2, 4], dtype=int64)"
      ]
     },
     "execution_count": 33,
     "metadata": {},
     "output_type": "execute_result"
    }
   ],
   "source": [
    "x1_pred = rc.predict(x_train)\n",
    "x1_pred"
   ]
  },
  {
   "cell_type": "code",
   "execution_count": 34,
   "metadata": {},
   "outputs": [
    {
     "data": {
      "text/plain": [
       "array([3, 1, 2, 4, 1, 1, 1, 3, 2, 2, 2, 3, 2, 2, 3, 2, 1, 1, 2, 3, 3, 3,\n",
       "       1, 3, 1, 1, 4, 3, 2, 3, 1, 4, 3, 4, 1, 4, 1, 3, 3, 2, 1, 2, 1, 2,\n",
       "       3, 2, 2, 2, 1, 3, 4, 1, 5, 3, 3, 5, 3, 3, 4, 1, 1, 4, 1, 4, 2, 2,\n",
       "       4, 1, 2, 3, 3, 3, 4, 4, 1, 1, 3, 1, 3, 4, 1, 4, 4, 4, 3, 1, 3, 4,\n",
       "       1, 2, 3, 1, 3, 2, 1, 5, 4, 4, 3, 3, 2, 3, 5, 1, 4, 2, 1, 2, 2, 1,\n",
       "       4, 2, 1, 2, 1, 4, 2, 3, 3, 2, 2, 1, 3, 1, 3, 3, 3, 4, 1, 4, 4, 2,\n",
       "       3, 1, 3, 2, 3, 3, 3, 4, 3, 2, 2, 3, 4, 1, 2, 2, 3, 2, 3, 3, 1, 1,\n",
       "       1, 3, 1, 3, 3, 3, 2, 4, 1, 4, 2, 3, 1, 1, 3, 3, 3, 2, 3, 2, 3, 1,\n",
       "       4, 1, 1, 5, 3, 4, 3, 2, 2, 3, 3, 4, 1, 2, 1, 4, 2, 2, 3, 1, 3, 2,\n",
       "       4, 4, 4, 1, 1, 1, 2, 4, 2, 1, 1, 1, 3, 4, 1, 4, 1, 3, 1, 2, 5, 3,\n",
       "       3, 2, 3, 3, 3, 4, 4, 1, 5, 3, 4, 1, 4, 4, 1, 3, 3, 4, 4, 4, 3, 4,\n",
       "       1, 3, 3, 1, 2, 3, 5, 2, 4, 1, 2, 1, 3, 1, 2, 2, 2, 3, 2, 3, 2, 2,\n",
       "       1, 4, 2, 2, 4, 3, 4, 3, 1, 4, 2, 3, 5, 1, 3, 1, 3, 1, 4, 4, 2, 2,\n",
       "       4, 3, 4, 5, 2, 2, 4, 3, 4, 4, 2, 2, 3, 1, 5, 2, 1, 2, 1, 1, 3, 5,\n",
       "       3, 3, 1, 4, 3, 1, 2, 4, 3, 2, 4, 3, 5, 4, 2, 3, 2, 4, 4, 3, 3, 3,\n",
       "       2, 4, 2, 1, 2, 4, 2, 4, 5, 2, 3, 2, 3, 1, 1, 4, 4, 4, 4, 4, 2, 2,\n",
       "       1, 3, 4, 1, 2, 4, 1, 5, 4, 2, 4, 2, 1, 1, 1, 5, 2, 1, 3, 2, 1, 4,\n",
       "       3, 4, 3, 4, 2, 2, 3, 2, 2, 3, 2, 2, 2, 4, 2, 1, 1, 4, 2, 2, 3, 5,\n",
       "       1, 4, 4, 2, 2, 3, 4, 1, 1, 3, 3, 2, 2, 1, 3, 1, 5, 4, 4, 3, 2, 2,\n",
       "       1, 3, 3, 2, 3, 2, 3, 3, 4, 2, 4, 1, 4, 4, 3, 3, 3, 2, 4, 1, 3, 2,\n",
       "       4, 1, 3, 3, 3, 3, 3, 2, 3, 4, 3, 3, 4, 5, 2, 4, 3, 4, 4, 4, 2, 3,\n",
       "       3, 1, 4, 4, 2, 4, 5, 3, 3], dtype=int64)"
      ]
     },
     "execution_count": 34,
     "metadata": {},
     "output_type": "execute_result"
    }
   ],
   "source": [
    "y1_pred = rc.predict(x_test)\n",
    "y1_pred"
   ]
  },
  {
   "cell_type": "code",
   "execution_count": 35,
   "metadata": {},
   "outputs": [
    {
     "name": "stdout",
     "output_type": "stream",
     "text": [
      "TR:              precision    recall  f1-score   support\n",
      "\n",
      "           1       1.00      1.00      1.00       454\n",
      "           2       1.00      1.00      1.00       428\n",
      "           3       1.00      1.00      1.00       489\n",
      "           4       1.00      1.00      1.00       406\n",
      "           5       1.00      1.00      1.00       103\n",
      "\n",
      "    accuracy                           1.00      1880\n",
      "   macro avg       1.00      1.00      1.00      1880\n",
      "weighted avg       1.00      1.00      1.00      1880\n",
      "\n",
      "TS:              precision    recall  f1-score   support\n",
      "\n",
      "           1       1.00      1.00      1.00       102\n",
      "           2       1.00      1.00      1.00       112\n",
      "           3       1.00      1.00      1.00       134\n",
      "           4       1.00      1.00      1.00       103\n",
      "           5       1.00      1.00      1.00        20\n",
      "\n",
      "    accuracy                           1.00       471\n",
      "   macro avg       1.00      1.00      1.00       471\n",
      "weighted avg       1.00      1.00      1.00       471\n",
      "\n"
     ]
    }
   ],
   "source": [
    "# Accuracy\n",
    "print(f'TR:{classification_report(x1_pred,y_train)}')\n",
    "print(f'TS:{classification_report(y1_pred,y_test)}')"
   ]
  },
  {
   "cell_type": "code",
   "execution_count": 36,
   "metadata": {},
   "outputs": [
    {
     "data": {
      "text/html": [
       "<style>#sk-container-id-2 {color: black;background-color: white;}#sk-container-id-2 pre{padding: 0;}#sk-container-id-2 div.sk-toggleable {background-color: white;}#sk-container-id-2 label.sk-toggleable__label {cursor: pointer;display: block;width: 100%;margin-bottom: 0;padding: 0.3em;box-sizing: border-box;text-align: center;}#sk-container-id-2 label.sk-toggleable__label-arrow:before {content: \"▸\";float: left;margin-right: 0.25em;color: #696969;}#sk-container-id-2 label.sk-toggleable__label-arrow:hover:before {color: black;}#sk-container-id-2 div.sk-estimator:hover label.sk-toggleable__label-arrow:before {color: black;}#sk-container-id-2 div.sk-toggleable__content {max-height: 0;max-width: 0;overflow: hidden;text-align: left;background-color: #f0f8ff;}#sk-container-id-2 div.sk-toggleable__content pre {margin: 0.2em;color: black;border-radius: 0.25em;background-color: #f0f8ff;}#sk-container-id-2 input.sk-toggleable__control:checked~div.sk-toggleable__content {max-height: 200px;max-width: 100%;overflow: auto;}#sk-container-id-2 input.sk-toggleable__control:checked~label.sk-toggleable__label-arrow:before {content: \"▾\";}#sk-container-id-2 div.sk-estimator input.sk-toggleable__control:checked~label.sk-toggleable__label {background-color: #d4ebff;}#sk-container-id-2 div.sk-label input.sk-toggleable__control:checked~label.sk-toggleable__label {background-color: #d4ebff;}#sk-container-id-2 input.sk-hidden--visually {border: 0;clip: rect(1px 1px 1px 1px);clip: rect(1px, 1px, 1px, 1px);height: 1px;margin: -1px;overflow: hidden;padding: 0;position: absolute;width: 1px;}#sk-container-id-2 div.sk-estimator {font-family: monospace;background-color: #f0f8ff;border: 1px dotted black;border-radius: 0.25em;box-sizing: border-box;margin-bottom: 0.5em;}#sk-container-id-2 div.sk-estimator:hover {background-color: #d4ebff;}#sk-container-id-2 div.sk-parallel-item::after {content: \"\";width: 100%;border-bottom: 1px solid gray;flex-grow: 1;}#sk-container-id-2 div.sk-label:hover label.sk-toggleable__label {background-color: #d4ebff;}#sk-container-id-2 div.sk-serial::before {content: \"\";position: absolute;border-left: 1px solid gray;box-sizing: border-box;top: 0;bottom: 0;left: 50%;z-index: 0;}#sk-container-id-2 div.sk-serial {display: flex;flex-direction: column;align-items: center;background-color: white;padding-right: 0.2em;padding-left: 0.2em;position: relative;}#sk-container-id-2 div.sk-item {position: relative;z-index: 1;}#sk-container-id-2 div.sk-parallel {display: flex;align-items: stretch;justify-content: center;background-color: white;position: relative;}#sk-container-id-2 div.sk-item::before, #sk-container-id-2 div.sk-parallel-item::before {content: \"\";position: absolute;border-left: 1px solid gray;box-sizing: border-box;top: 0;bottom: 0;left: 50%;z-index: -1;}#sk-container-id-2 div.sk-parallel-item {display: flex;flex-direction: column;z-index: 1;position: relative;background-color: white;}#sk-container-id-2 div.sk-parallel-item:first-child::after {align-self: flex-end;width: 50%;}#sk-container-id-2 div.sk-parallel-item:last-child::after {align-self: flex-start;width: 50%;}#sk-container-id-2 div.sk-parallel-item:only-child::after {width: 0;}#sk-container-id-2 div.sk-dashed-wrapped {border: 1px dashed gray;margin: 0 0.4em 0.5em 0.4em;box-sizing: border-box;padding-bottom: 0.4em;background-color: white;}#sk-container-id-2 div.sk-label label {font-family: monospace;font-weight: bold;display: inline-block;line-height: 1.2em;}#sk-container-id-2 div.sk-label-container {text-align: center;}#sk-container-id-2 div.sk-container {/* jupyter's `normalize.less` sets `[hidden] { display: none; }` but bootstrap.min.css set `[hidden] { display: none !important; }` so we also need the `!important` here to be able to override the default hidden behavior on the sphinx rendered scikit-learn.org. See: https://github.com/scikit-learn/scikit-learn/issues/21755 */display: inline-block !important;position: relative;}#sk-container-id-2 div.sk-text-repr-fallback {display: none;}</style><div id=\"sk-container-id-2\" class=\"sk-top-container\"><div class=\"sk-text-repr-fallback\"><pre>GridSearchCV(cv=2, estimator=RandomForestClassifier(), n_jobs=-1,\n",
       "             param_grid={&#x27;max_depth&#x27;: [None, 1, 2, 3],\n",
       "                         &#x27;max_features&#x27;: [&#x27;sqrt&#x27;, &#x27;log2&#x27;],\n",
       "                         &#x27;min_samples_leaf&#x27;: [None, 0.1, 1, 2],\n",
       "                         &#x27;min_samples_split&#x27;: [0.1, 0.2, 0.3],\n",
       "                         &#x27;n_estimators&#x27;: [100, 200, 300, 600]})</pre><b>In a Jupyter environment, please rerun this cell to show the HTML representation or trust the notebook. <br />On GitHub, the HTML representation is unable to render, please try loading this page with nbviewer.org.</b></div><div class=\"sk-container\" hidden><div class=\"sk-item sk-dashed-wrapped\"><div class=\"sk-label-container\"><div class=\"sk-label sk-toggleable\"><input class=\"sk-toggleable__control sk-hidden--visually\" id=\"sk-estimator-id-2\" type=\"checkbox\" ><label for=\"sk-estimator-id-2\" class=\"sk-toggleable__label sk-toggleable__label-arrow\">GridSearchCV</label><div class=\"sk-toggleable__content\"><pre>GridSearchCV(cv=2, estimator=RandomForestClassifier(), n_jobs=-1,\n",
       "             param_grid={&#x27;max_depth&#x27;: [None, 1, 2, 3],\n",
       "                         &#x27;max_features&#x27;: [&#x27;sqrt&#x27;, &#x27;log2&#x27;],\n",
       "                         &#x27;min_samples_leaf&#x27;: [None, 0.1, 1, 2],\n",
       "                         &#x27;min_samples_split&#x27;: [0.1, 0.2, 0.3],\n",
       "                         &#x27;n_estimators&#x27;: [100, 200, 300, 600]})</pre></div></div></div><div class=\"sk-parallel\"><div class=\"sk-parallel-item\"><div class=\"sk-item\"><div class=\"sk-label-container\"><div class=\"sk-label sk-toggleable\"><input class=\"sk-toggleable__control sk-hidden--visually\" id=\"sk-estimator-id-3\" type=\"checkbox\" ><label for=\"sk-estimator-id-3\" class=\"sk-toggleable__label sk-toggleable__label-arrow\">estimator: RandomForestClassifier</label><div class=\"sk-toggleable__content\"><pre>RandomForestClassifier()</pre></div></div></div><div class=\"sk-serial\"><div class=\"sk-item\"><div class=\"sk-estimator sk-toggleable\"><input class=\"sk-toggleable__control sk-hidden--visually\" id=\"sk-estimator-id-4\" type=\"checkbox\" ><label for=\"sk-estimator-id-4\" class=\"sk-toggleable__label sk-toggleable__label-arrow\">RandomForestClassifier</label><div class=\"sk-toggleable__content\"><pre>RandomForestClassifier()</pre></div></div></div></div></div></div></div></div></div></div>"
      ],
      "text/plain": [
       "GridSearchCV(cv=2, estimator=RandomForestClassifier(), n_jobs=-1,\n",
       "             param_grid={'max_depth': [None, 1, 2, 3],\n",
       "                         'max_features': ['sqrt', 'log2'],\n",
       "                         'min_samples_leaf': [None, 0.1, 1, 2],\n",
       "                         'min_samples_split': [0.1, 0.2, 0.3],\n",
       "                         'n_estimators': [100, 200, 300, 600]})"
      ]
     },
     "execution_count": 36,
     "metadata": {},
     "output_type": "execute_result"
    }
   ],
   "source": [
    "from sklearn.model_selection import GridSearchCV\n",
    "\n",
    "para = {'n_estimators' : [100,200,300,600],\n",
    "        'min_samples_split':  [0.1,0.2,0.3],\n",
    "        'max_depth' :   [None,1,2,3],\n",
    "        'min_samples_leaf' : [None,0.1,1,2],\n",
    "        'max_features'  :   ['sqrt','log2']\n",
    "       }\n",
    "\n",
    "model1 = RandomForestClassifier()\n",
    "Gs = GridSearchCV(model1,para,cv = 2,n_jobs = -1)\n",
    "Gs.fit(x_train,y_train)"
   ]
  },
  {
   "cell_type": "code",
   "execution_count": 37,
   "metadata": {},
   "outputs": [
    {
     "name": "stdout",
     "output_type": "stream",
     "text": [
      "{'max_depth': None, 'max_features': 'sqrt', 'min_samples_leaf': 1, 'min_samples_split': 0.1, 'n_estimators': 100}\n"
     ]
    }
   ],
   "source": [
    "best = Gs.best_params_\n",
    "print(best)"
   ]
  },
  {
   "cell_type": "code",
   "execution_count": 38,
   "metadata": {},
   "outputs": [
    {
     "data": {
      "text/html": [
       "<style>#sk-container-id-3 {color: black;background-color: white;}#sk-container-id-3 pre{padding: 0;}#sk-container-id-3 div.sk-toggleable {background-color: white;}#sk-container-id-3 label.sk-toggleable__label {cursor: pointer;display: block;width: 100%;margin-bottom: 0;padding: 0.3em;box-sizing: border-box;text-align: center;}#sk-container-id-3 label.sk-toggleable__label-arrow:before {content: \"▸\";float: left;margin-right: 0.25em;color: #696969;}#sk-container-id-3 label.sk-toggleable__label-arrow:hover:before {color: black;}#sk-container-id-3 div.sk-estimator:hover label.sk-toggleable__label-arrow:before {color: black;}#sk-container-id-3 div.sk-toggleable__content {max-height: 0;max-width: 0;overflow: hidden;text-align: left;background-color: #f0f8ff;}#sk-container-id-3 div.sk-toggleable__content pre {margin: 0.2em;color: black;border-radius: 0.25em;background-color: #f0f8ff;}#sk-container-id-3 input.sk-toggleable__control:checked~div.sk-toggleable__content {max-height: 200px;max-width: 100%;overflow: auto;}#sk-container-id-3 input.sk-toggleable__control:checked~label.sk-toggleable__label-arrow:before {content: \"▾\";}#sk-container-id-3 div.sk-estimator input.sk-toggleable__control:checked~label.sk-toggleable__label {background-color: #d4ebff;}#sk-container-id-3 div.sk-label input.sk-toggleable__control:checked~label.sk-toggleable__label {background-color: #d4ebff;}#sk-container-id-3 input.sk-hidden--visually {border: 0;clip: rect(1px 1px 1px 1px);clip: rect(1px, 1px, 1px, 1px);height: 1px;margin: -1px;overflow: hidden;padding: 0;position: absolute;width: 1px;}#sk-container-id-3 div.sk-estimator {font-family: monospace;background-color: #f0f8ff;border: 1px dotted black;border-radius: 0.25em;box-sizing: border-box;margin-bottom: 0.5em;}#sk-container-id-3 div.sk-estimator:hover {background-color: #d4ebff;}#sk-container-id-3 div.sk-parallel-item::after {content: \"\";width: 100%;border-bottom: 1px solid gray;flex-grow: 1;}#sk-container-id-3 div.sk-label:hover label.sk-toggleable__label {background-color: #d4ebff;}#sk-container-id-3 div.sk-serial::before {content: \"\";position: absolute;border-left: 1px solid gray;box-sizing: border-box;top: 0;bottom: 0;left: 50%;z-index: 0;}#sk-container-id-3 div.sk-serial {display: flex;flex-direction: column;align-items: center;background-color: white;padding-right: 0.2em;padding-left: 0.2em;position: relative;}#sk-container-id-3 div.sk-item {position: relative;z-index: 1;}#sk-container-id-3 div.sk-parallel {display: flex;align-items: stretch;justify-content: center;background-color: white;position: relative;}#sk-container-id-3 div.sk-item::before, #sk-container-id-3 div.sk-parallel-item::before {content: \"\";position: absolute;border-left: 1px solid gray;box-sizing: border-box;top: 0;bottom: 0;left: 50%;z-index: -1;}#sk-container-id-3 div.sk-parallel-item {display: flex;flex-direction: column;z-index: 1;position: relative;background-color: white;}#sk-container-id-3 div.sk-parallel-item:first-child::after {align-self: flex-end;width: 50%;}#sk-container-id-3 div.sk-parallel-item:last-child::after {align-self: flex-start;width: 50%;}#sk-container-id-3 div.sk-parallel-item:only-child::after {width: 0;}#sk-container-id-3 div.sk-dashed-wrapped {border: 1px dashed gray;margin: 0 0.4em 0.5em 0.4em;box-sizing: border-box;padding-bottom: 0.4em;background-color: white;}#sk-container-id-3 div.sk-label label {font-family: monospace;font-weight: bold;display: inline-block;line-height: 1.2em;}#sk-container-id-3 div.sk-label-container {text-align: center;}#sk-container-id-3 div.sk-container {/* jupyter's `normalize.less` sets `[hidden] { display: none; }` but bootstrap.min.css set `[hidden] { display: none !important; }` so we also need the `!important` here to be able to override the default hidden behavior on the sphinx rendered scikit-learn.org. See: https://github.com/scikit-learn/scikit-learn/issues/21755 */display: inline-block !important;position: relative;}#sk-container-id-3 div.sk-text-repr-fallback {display: none;}</style><div id=\"sk-container-id-3\" class=\"sk-top-container\"><div class=\"sk-text-repr-fallback\"><pre>RandomForestClassifier(min_samples_split=0.1, random_state=42)</pre><b>In a Jupyter environment, please rerun this cell to show the HTML representation or trust the notebook. <br />On GitHub, the HTML representation is unable to render, please try loading this page with nbviewer.org.</b></div><div class=\"sk-container\" hidden><div class=\"sk-item\"><div class=\"sk-estimator sk-toggleable\"><input class=\"sk-toggleable__control sk-hidden--visually\" id=\"sk-estimator-id-5\" type=\"checkbox\" checked><label for=\"sk-estimator-id-5\" class=\"sk-toggleable__label sk-toggleable__label-arrow\">RandomForestClassifier</label><div class=\"sk-toggleable__content\"><pre>RandomForestClassifier(min_samples_split=0.1, random_state=42)</pre></div></div></div></div></div>"
      ],
      "text/plain": [
       "RandomForestClassifier(min_samples_split=0.1, random_state=42)"
      ]
     },
     "execution_count": 38,
     "metadata": {},
     "output_type": "execute_result"
    }
   ],
   "source": [
    "m1 = RandomForestClassifier(max_depth = None, max_features = 'sqrt', min_samples_leaf = 1, min_samples_split = 0.1,\n",
    "                            n_estimators = 100, random_state = 42)\n",
    "m1.fit(x_train,y_train)"
   ]
  },
  {
   "cell_type": "code",
   "execution_count": 39,
   "metadata": {},
   "outputs": [
    {
     "data": {
      "text/plain": [
       "array([4, 4, 4, ..., 4, 2, 4], dtype=int64)"
      ]
     },
     "execution_count": 39,
     "metadata": {},
     "output_type": "execute_result"
    }
   ],
   "source": [
    "x2 = m1.predict(x_train)\n",
    "x2"
   ]
  },
  {
   "cell_type": "code",
   "execution_count": 40,
   "metadata": {},
   "outputs": [
    {
     "data": {
      "text/plain": [
       "array([3, 1, 2, 4, 1, 1, 1, 3, 2, 2, 2, 3, 2, 2, 3, 2, 1, 1, 2, 3, 3, 3,\n",
       "       1, 3, 1, 1, 4, 3, 2, 3, 1, 4, 3, 4, 1, 4, 1, 3, 3, 2, 1, 2, 1, 2,\n",
       "       3, 2, 2, 2, 1, 3, 4, 1, 5, 3, 3, 5, 3, 3, 4, 1, 1, 4, 1, 4, 2, 2,\n",
       "       4, 1, 2, 3, 3, 3, 4, 4, 1, 1, 3, 1, 3, 4, 1, 4, 4, 4, 3, 1, 3, 4,\n",
       "       1, 2, 3, 1, 3, 2, 1, 5, 4, 4, 3, 3, 2, 3, 5, 1, 4, 2, 1, 2, 2, 1,\n",
       "       4, 2, 1, 2, 1, 4, 2, 3, 3, 2, 2, 1, 3, 1, 3, 3, 3, 4, 1, 4, 4, 2,\n",
       "       3, 1, 3, 2, 3, 3, 3, 4, 3, 2, 2, 3, 4, 1, 2, 2, 3, 2, 3, 3, 1, 1,\n",
       "       1, 3, 1, 3, 3, 3, 2, 4, 1, 4, 2, 3, 1, 1, 3, 3, 3, 2, 3, 2, 3, 1,\n",
       "       4, 1, 1, 5, 3, 4, 3, 2, 2, 3, 3, 4, 1, 2, 1, 4, 2, 2, 3, 1, 3, 2,\n",
       "       4, 4, 4, 1, 1, 1, 2, 4, 2, 1, 1, 1, 3, 4, 1, 4, 1, 3, 1, 2, 5, 3,\n",
       "       3, 2, 3, 3, 3, 4, 4, 1, 5, 3, 4, 1, 4, 4, 1, 3, 3, 4, 4, 4, 3, 4,\n",
       "       1, 3, 3, 1, 2, 3, 5, 2, 4, 1, 2, 1, 3, 1, 2, 2, 2, 3, 2, 3, 2, 2,\n",
       "       1, 4, 2, 2, 4, 3, 4, 3, 1, 4, 2, 3, 5, 1, 3, 1, 3, 1, 4, 4, 2, 2,\n",
       "       4, 3, 4, 5, 2, 2, 4, 3, 4, 4, 2, 2, 3, 1, 5, 2, 1, 2, 1, 1, 3, 5,\n",
       "       3, 3, 1, 4, 3, 1, 2, 4, 3, 2, 4, 3, 5, 4, 2, 3, 2, 4, 4, 3, 3, 3,\n",
       "       2, 4, 2, 1, 2, 4, 2, 4, 5, 2, 3, 2, 3, 1, 1, 4, 4, 4, 4, 4, 2, 2,\n",
       "       1, 3, 4, 1, 2, 4, 1, 5, 4, 2, 4, 2, 1, 1, 1, 5, 2, 1, 3, 2, 1, 4,\n",
       "       3, 4, 3, 4, 2, 2, 3, 2, 2, 3, 2, 2, 2, 4, 2, 1, 1, 4, 2, 2, 3, 5,\n",
       "       1, 4, 4, 2, 2, 3, 4, 1, 1, 3, 3, 2, 2, 1, 3, 1, 5, 4, 4, 3, 2, 2,\n",
       "       1, 3, 3, 2, 3, 2, 3, 3, 4, 2, 4, 1, 4, 4, 3, 3, 3, 2, 4, 1, 3, 2,\n",
       "       4, 1, 3, 3, 3, 3, 3, 2, 3, 4, 3, 3, 4, 5, 2, 4, 3, 4, 4, 4, 2, 3,\n",
       "       3, 1, 4, 4, 2, 4, 5, 3, 3], dtype=int64)"
      ]
     },
     "execution_count": 40,
     "metadata": {},
     "output_type": "execute_result"
    }
   ],
   "source": [
    "y2 = m1.predict(x_test)\n",
    "y2"
   ]
  },
  {
   "cell_type": "code",
   "execution_count": 41,
   "metadata": {},
   "outputs": [
    {
     "name": "stdout",
     "output_type": "stream",
     "text": [
      "TR:              precision    recall  f1-score   support\n",
      "\n",
      "           1       1.00      1.00      1.00       454\n",
      "           2       1.00      1.00      1.00       428\n",
      "           3       1.00      1.00      1.00       489\n",
      "           4       1.00      1.00      1.00       406\n",
      "           5       1.00      1.00      1.00       103\n",
      "\n",
      "    accuracy                           1.00      1880\n",
      "   macro avg       1.00      1.00      1.00      1880\n",
      "weighted avg       1.00      1.00      1.00      1880\n",
      "\n",
      "TS:              precision    recall  f1-score   support\n",
      "\n",
      "           1       1.00      1.00      1.00       102\n",
      "           2       1.00      1.00      1.00       112\n",
      "           3       1.00      1.00      1.00       134\n",
      "           4       1.00      1.00      1.00       103\n",
      "           5       1.00      1.00      1.00        20\n",
      "\n",
      "    accuracy                           1.00       471\n",
      "   macro avg       1.00      1.00      1.00       471\n",
      "weighted avg       1.00      1.00      1.00       471\n",
      "\n"
     ]
    }
   ],
   "source": [
    "# Accuracy\n",
    "print(f'TR:{classification_report(y_train,x2)}')\n",
    "print(f'TS:{classification_report(y_test,y2)}')"
   ]
  },
  {
   "cell_type": "code",
   "execution_count": 42,
   "metadata": {},
   "outputs": [],
   "source": [
    "import joblib"
   ]
  },
  {
   "cell_type": "code",
   "execution_count": 43,
   "metadata": {},
   "outputs": [
    {
     "name": "stdout",
     "output_type": "stream",
     "text": [
      "[1]\n"
     ]
    }
   ],
   "source": [
    "file = 'Disease prediction'\n",
    "joblib.dump(m1,'Disease prediction')\n",
    "app = joblib.load('Disease prediction')\n",
    "arr = [[0.739596713,0.650198388,0.713630986,0.868491241,0.687433028,0.529895399,0.290005909,\n",
    "        0.631045018,0.001327858,0.79582887,0.034129122,0.071774199,0.185595597,0.07145461,0.653472376,\n",
    "        0.502664779,0.215560238,0.512940563,0.064187347,0.61082651,0.939484854,0.095511528,0.465956967,0.769230075\n",
    "]]\n",
    "d = app.predict(arr)\n",
    "print(d)"
   ]
  },
  {
   "cell_type": "code",
   "execution_count": null,
   "metadata": {},
   "outputs": [],
   "source": []
  }
 ],
 "metadata": {
  "kernelspec": {
   "display_name": "Python 3 (ipykernel)",
   "language": "python",
   "name": "python3"
  },
  "language_info": {
   "codemirror_mode": {
    "name": "ipython",
    "version": 3
   },
   "file_extension": ".py",
   "mimetype": "text/x-python",
   "name": "python",
   "nbconvert_exporter": "python",
   "pygments_lexer": "ipython3",
   "version": "3.11.5"
  },
  "widgets": {
   "application/vnd.jupyter.widget-state+json": {
    "state": {},
    "version_major": 2,
    "version_minor": 0
   }
  }
 },
 "nbformat": 4,
 "nbformat_minor": 4
}
